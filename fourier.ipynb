{
 "cells": [
  {
   "cell_type": "markdown",
   "metadata": {},
   "source": [
    "## .gyakorlat: Fourier-sorok és egy kis grafika\n",
    "\n",
    "A gyakorlaton átismételjük a Fourier-sorfejtés elméletét, megismerkedünk a python egyik egyszerű grafikus könyvtárával, és ezt fel is használjuk a négyszögjel Fourier sorának megjelenítésére. Megbeszéljük, hogy mi a különbség a Fourier-transzformáció és a Fourier-sorfejtés között, és megtujduk, hogy hogyan működik a HiFi-k spektrum analizátora és a Shazam."
   ]
  },
  {
   "cell_type": "markdown",
   "metadata": {},
   "source": [
    "Ismerkedjünk meg a graphics.py csomaggal! John M. Zelle készítette, hogy legyen egy könnyen használható grafika\n",
    "könyvtár egy kezdő programozós kurzusán, és széles körben használt egyszerűsége miatt: ha valami egyszerű animációt szeretnétek művelni Pythonban, így a legkönnyebb. A kód, és a hozzá tartozó (rövid!) dokumentáció ezen a címen érhető el: http://mcsp.wartburg.edu/zelle/python/ ."
   ]
  },
  {
   "cell_type": "markdown",
   "metadata": {},
   "source": [
    "\n",
    "Ha letöltöttétek a .py fájl az oldalról, tegyétek be a kód mappájába, és innentől az alábbi sorral hozzá tudtok férni\n",
    "a graphics.py függvényeihez:"
   ]
  },
  {
   "cell_type": "code",
   "execution_count": 2,
   "metadata": {},
   "outputs": [],
   "source": [
    "from graphics import *"
   ]
  },
  {
   "cell_type": "markdown",
   "metadata": {},
   "source": [
    "Ahogy a C++-os grafikában megszokhattuk, szükségünk lesz egy ablakra, amire rajzolhatunk. Így tudunk ablakot csinálni:"
   ]
  },
  {
   "cell_type": "code",
   "execution_count": 13,
   "metadata": {},
   "outputs": [],
   "source": [
    "win = GraphWin(\"My_window\", 600,400)"
   ]
  },
  {
   "cell_type": "markdown",
   "metadata": {},
   "source": [
    "Megjelent az ablakunk, de eltünni nem akar (legalábbis nekem Ubuntun). El is kéne tüntetni valahogy!"
   ]
  },
  {
   "cell_type": "code",
   "execution_count": 16,
   "metadata": {},
   "outputs": [],
   "source": [
    "win = GraphWin(\"My_Window\", 600, 400) \n",
    "win.close()"
   ]
  },
  {
   "cell_type": "code",
   "execution_count": null,
   "metadata": {},
   "outputs": [],
   "source": []
  },
  {
   "cell_type": "code",
   "execution_count": null,
   "metadata": {},
   "outputs": [],
   "source": [
    "win =GraphWin(\"Fourier\", 600, 400)\n",
    "win.getMouse()\n",
    "win.close()\n"
   ]
  },
  {
   "cell_type": "code",
   "execution_count": 17,
   "metadata": {},
   "outputs": [],
   "source": [
    "win = GraphWin(\"My_Window\", 600, 400)\n",
    "while win.checkMouse()==None:\n",
    "    t=\"ez egy üres while loop\"#ide fogjuk majd megírni a programunkat\n",
    "win.close() #ez lesz a programunk \"kerete\": megjelenik, és akkor tűnik el, amikor akarom.\n",
    "#mire lesz még szükség? Tudnunk kell:\n",
    "#pontokat rajzolni\n",
    "#egyeneseket rajzolni\n",
    "#köröket rajzolni\n",
    "#és az egészet akkor, és olyan gyakorisággal letörölni, ahogy tetszik. A többi már csak matek!"
   ]
  },
  {
   "cell_type": "code",
   "execution_count": null,
   "metadata": {},
   "outputs": [],
   "source": []
  },
  {
   "cell_type": "code",
   "execution_count": 4,
   "metadata": {},
   "outputs": [],
   "source": [
    "from graphics import *\n",
    "import numpy as np\n",
    "\n",
    "\n",
    "t=0\n",
    "wave=[]\n",
    "win =GraphWin(\"Fourier\", 800, 400, autoflush=False)\n",
    "win.setBackground(\"black\")\n",
    "\n",
    "radius = 100;\n",
    "center=Point(250,200)\n",
    "\n",
    "\n",
    "while win.checkMouse()==None:\n",
    "    win.delete(\"all\")\n",
    "    x=center.x\n",
    "    y=center.y\n",
    "    for i in range (10):\n",
    "        n=2*i+1\n",
    "        point_1=Point(x,y)\n",
    "        \n",
    "        circ = Circle(Point(x,y),radius/n)\n",
    "        circ.setOutline(\"white\")\n",
    "        circ.draw(win)\n",
    "        x+=radius/n*np.cos(t*n)\n",
    "        y+=-radius/n*np.sin(t*n)\n",
    "        \n",
    "        point_2=Point(x,y)\n",
    "        \n",
    "        radius_show= Line(point_1, point_2)\n",
    "        radius_show.setFill(\"white\")\n",
    "        radius_show.draw(win)\n",
    "    \n",
    "    wave.insert(0,y)\n",
    "    if len(wave)>250:\n",
    "        del(wave[-1])\n",
    "    \n",
    "    line=Line(point_2,Point(500,wave[0]))\n",
    "    line.setFill(\"white\")\n",
    "    line.draw(win)\n",
    "    \n",
    "    for i in range (len(wave)):\n",
    "        point=Point(i+500, wave[i])\n",
    "        point.setFill(\"white\")\n",
    "        point.draw(win)\n",
    "            \n",
    "    t+=0.02\n",
    "    update(20)\n",
    "     \n",
    "win.close()"
   ]
  },
  {
   "cell_type": "code",
   "execution_count": 2,
   "metadata": {},
   "outputs": [],
   "source": [
    "win =GraphWin(\"Fourier\", 600, 400)\n",
    "\n",
    "radius = 100;\n",
    "center=Point(300,200)\n",
    "size=100\n",
    "sin_wave=np.sin(np.linspace(0,6.281,size))\n",
    "omega=0.00012\n",
    "j=0.00025\n",
    "while win.checkMouse()==None:\n",
    "    win.delete(\"all\")\n",
    "    \n",
    "    if not(0.0001<omega<0.5):\n",
    "        j=-j\n",
    "    \n",
    "    omega+=j\n",
    "\n",
    "    for i in range(0,size):\n",
    "        x=radius*np.cos(i*omega)*sin_wave[i]+center.x\n",
    "        y=-radius*np.sin(i*omega)*sin_wave[i]+center.y\n",
    "        point=Point(x,y)\n",
    "        point.draw(win)\n",
    "    update(20)\n",
    "\n",
    "win.close()"
   ]
  }
 ],
 "metadata": {
  "kernelspec": {
   "display_name": "Python 3",
   "language": "python",
   "name": "python3"
  },
  "language_info": {
   "codemirror_mode": {
    "name": "ipython",
    "version": 3
   },
   "file_extension": ".py",
   "mimetype": "text/x-python",
   "name": "python",
   "nbconvert_exporter": "python",
   "pygments_lexer": "ipython3",
   "version": "3.6.7"
  }
 },
 "nbformat": 4,
 "nbformat_minor": 2
}
