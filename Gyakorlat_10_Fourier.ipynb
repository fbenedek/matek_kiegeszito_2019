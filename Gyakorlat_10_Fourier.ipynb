{
 "cells": [
  {
   "cell_type": "markdown",
   "metadata": {},
   "source": [
    "## 10.gyakorlat: Fourier-sorok és barátaik\n",
    "\n",
    "A gyakorlaton átismételjük a Fourier-sorfejtés elméletét, megismerkedünk a python egyik egyszerű grafikus könyvtárával, és ezt fel is használjuk a négyszögjel Fourier sorának megjelenítésére. Megbeszéljük, hogy mi a különbség a Fourier-transzformáció és a Fourier-sorfejtés között, és megtujduk, hogy hogyan működik a HiFi-k spektrum analizátora és a Shazam. Megtudjuk, hogy mi köze a képeknek a frekvenciához, és rájövünk, hogy a robotok folyamatosan remegnek. "
   ]
  },
  {
   "cell_type": "markdown",
   "metadata": {},
   "source": [
    "Ismerkedjünk meg a graphics.py csomaggal! John M. Zelle készítette, hogy legyen egy könnyen használható grafika\n",
    "könyvtár egy kezdő programozós kurzusán, és széles körben használt egyszerűsége miatt: ha valami egyszerű animációt szeretnétek művelni Pythonban, így a legkönnyebb. A kód, és a hozzá tartozó (rövid!) dokumentáció ezen a címen érhető el: http://mcsp.wartburg.edu/zelle/python/ ."
   ]
  },
  {
   "cell_type": "markdown",
   "metadata": {},
   "source": [
    "\n",
    "Ha letöltöttétek a .py fájl az oldalról, tegyétek be a kód mappájába, és innentől az alábbi sorral hozzá tudtok férni\n",
    "a graphics.py függvényeihez:"
   ]
  },
  {
   "cell_type": "code",
   "execution_count": 1,
   "metadata": {},
   "outputs": [],
   "source": [
    "from graphics import *"
   ]
  },
  {
   "cell_type": "markdown",
   "metadata": {},
   "source": [
    "Ahogy a C++-os grafikában megszokhattuk, szükségünk lesz egy ablakra, amire rajzolhatunk. Így tudunk ablakot csinálni:"
   ]
  },
  {
   "cell_type": "code",
   "execution_count": null,
   "metadata": {},
   "outputs": [],
   "source": [
    "win = GraphWin(\"My_window\", 600,400)"
   ]
  },
  {
   "cell_type": "markdown",
   "metadata": {},
   "source": [
    "Megjelent az ablakunk, de eltünni nem akar (legalábbis nekem Ubuntun). El is kéne tüntetni valahogy!"
   ]
  },
  {
   "cell_type": "code",
   "execution_count": null,
   "metadata": {},
   "outputs": [],
   "source": [
    "win = GraphWin(\"My_Window\", 600, 400) \n",
    "win.close()"
   ]
  },
  {
   "cell_type": "markdown",
   "metadata": {},
   "source": [
    "Lássunk két módszert arra, hogy hogyan lehet megoldani a problémát:"
   ]
  },
  {
   "cell_type": "code",
   "execution_count": 2,
   "metadata": {},
   "outputs": [],
   "source": [
    "win =GraphWin(\"Fourier\", 600, 400)\n",
    "win.getMouse()\n",
    "win.close()\n"
   ]
  },
  {
   "cell_type": "code",
   "execution_count": 3,
   "metadata": {},
   "outputs": [],
   "source": [
    "win = GraphWin(\"My_Window\", 600, 400)\n",
    "while win.checkMouse()==None:\n",
    "    t=\"ide írhatjuk a kódot. Ha nem tudjuk, hogy mikor fogjuk abbhagyni a futást, ezt használjuk\"\n",
    "win.close()\n",
    "#mire lesz még szükség? Tudnunk kell:\n",
    "#pontokat rajzolni\n",
    "#egyeneseket rajzolni\n",
    "#köröket rajzolni\n",
    "#és az egészet akkor, és olyan gyakorisággal letörölni, ahogy tetszik. A többi már csak matek!"
   ]
  },
  {
   "cell_type": "code",
   "execution_count": 3,
   "metadata": {},
   "outputs": [],
   "source": [
    "win =GraphWin(\"Fourier\", 600, 400)\n",
    "win.setBackground(\"black\")\n",
    "\n",
    "pont=Point(200,200)#pont objektum: x,y koordináták megadásával\n",
    "pont.setFill(color_rgb(69,14,88)) #színt így is állíthatjuk\n",
    "\n",
    "pont.draw(win)\n",
    "\n",
    "kor=Circle(pont,3)\n",
    "kor.setFill(\"white\") #outline és fill között\n",
    "kor.draw(win)\n",
    "\n",
    "kor2=Circle(pont,100)\n",
    "kor2.setOutline(\"white\") #előtte: mit rontottam el? (alapméretezett: fekete)\n",
    "kor2.draw(win)\n",
    "\n",
    "egyenes=Line(pont, Point(300,200))#így belül is lehet, néha így kényelmesebb\n",
    "egyenes.setOutline(\"white\")\n",
    "egyenes.draw(win)\n",
    "\n",
    "win.getMouse()\n",
    "win.close()"
   ]
  },
  {
   "cell_type": "code",
   "execution_count": 1,
   "metadata": {},
   "outputs": [],
   "source": [
    "from graphics import *\n",
    "import numpy as np\n",
    "\n",
    "\n",
    " \n",
    "win =GraphWin(\"Fourier\", 800, 400, autoflush=False)#animáció készítésénél: ld. Zelle pdf-je!\n",
    "win.setBackground(\"black\")\n",
    "\n",
    "t=0 #legyen egy változónk az időhöz: a cos, sin függvényebe ezt fgojuk beletenni\n",
    "radius = 100; #kör sugara\n",
    "center=Point(250,200) #ez legyen a kp\n",
    "\n",
    "\n",
    "while win.checkMouse()==None: #azért nem az egyszerűbb megoldást használjuk,mert nem tudjuk, meddig néznénk a kört\n",
    "    if(t>np.pi*2):\n",
    "        t=0\n",
    "    \n",
    "    win.delete(\"all\")#letöröljük az előző képkockát\n",
    "    x=center.x#kör megrajzolása\n",
    "    y=center.y\n",
    "    \n",
    "    point_1=Point(x,y)\n",
    "    circ = Circle(point_1,radius)\n",
    "    circ.setOutline(\"white\")\n",
    "    circ.draw(win)\n",
    "    \n",
    "    x+=radius*np.cos(t)#forgó pont koordinátái\n",
    "    y+=radius*-np.sin(t)\n",
    "    \n",
    "    \n",
    "        \n",
    "    point_2=Point(x,y)#ez lesz a forgó pont\n",
    "        \n",
    "    radius_show= Line(point_1, point_2)#sugár megrajzolása\n",
    "    radius_show.setFill(\"white\")\n",
    "    radius_show.draw(win)\n",
    "            \n",
    "    t+=0.02\n",
    "    update(20) #magyarázat a pdf-ben.\n",
    "     \n",
    "win.close()"
   ]
  },
  {
   "cell_type": "code",
   "execution_count": 2,
   "metadata": {},
   "outputs": [],
   "source": [
    "from graphics import *\n",
    "import numpy as np\n",
    "\n",
    "\n",
    "t=0\n",
    "wave=[]\n",
    "win =GraphWin(\"Fourier\", 800, 400, autoflush=False)\n",
    "win.setBackground(\"black\")\n",
    "\n",
    "radius = 100;\n",
    "center=Point(250,200)\n",
    "\n",
    "\n",
    "while win.checkMouse()==None:\n",
    "    win.delete(\"all\")\n",
    "    x=center.x\n",
    "    y=center.y\n",
    "    point_1=Point(x,y)\n",
    "    \n",
    "    x+=radius*np.cos(t)\n",
    "    y+=radius*-np.sin(t)\n",
    "    wave.insert(0,y)\n",
    "    \n",
    "    circ = Circle(point_1,radius)\n",
    "    circ.setOutline(\"white\")\n",
    "    circ.draw(win)\n",
    "        \n",
    "    point_2=Point(x,y)\n",
    "        \n",
    "    radius_show= Line(point_1, point_2)\n",
    "    radius_show.setFill(\"white\")\n",
    "    radius_show.draw(win)\n",
    "    \n",
    "    if len(wave)>250:\n",
    "        del(wave[-1])\n",
    "    \n",
    "    line=Line(point_2,Point(500,wave[0]))\n",
    "    line.setFill(\"white\")\n",
    "    line.draw(win)\n",
    "    \n",
    "    for i in range (len(wave)):\n",
    "        point=Point(i+500, wave[i])\n",
    "        point.setFill(\"white\")\n",
    "        point.draw(win)\n",
    "            \n",
    "    t+=0.02\n",
    "    update(20)\n",
    "     \n",
    "win.close()"
   ]
  },
  {
   "cell_type": "code",
   "execution_count": 1,
   "metadata": {},
   "outputs": [],
   "source": [
    "from graphics import *\n",
    "import numpy as np\n",
    "\n",
    "\n",
    "t=0\n",
    "wave=[]\n",
    "win =GraphWin(\"Fourier\", 800, 400, autoflush=False)\n",
    "win.setBackground(\"black\")\n",
    "\n",
    "radius = 100;\n",
    "center=Point(250,200)\n",
    "\n",
    "\n",
    "while win.checkMouse()==None:\n",
    "    win.delete(\"all\")\n",
    "    x=center.x\n",
    "    y=center.y\n",
    "    for i in range (10):\n",
    "        n=2*i+1\n",
    "        point_1=Point(x,y)\n",
    "        \n",
    "        circ = Circle(Point(x,y),radius/n)\n",
    "        circ.setOutline(\"white\")\n",
    "        circ.draw(win)\n",
    "        x+=radius/n*np.cos(t*n)\n",
    "        y+=-radius/n*np.sin(t*n)\n",
    "        \n",
    "        point_2=Point(x,y)\n",
    "        \n",
    "        radius_show= Line(point_1, point_2)\n",
    "        radius_show.setFill(\"white\")\n",
    "        radius_show.draw(win)\n",
    "    \n",
    "    wave.insert(0,y)\n",
    "    if len(wave)>250:\n",
    "        del(wave[-1])\n",
    "    \n",
    "    line=Line(point_2,Point(500,wave[0]))\n",
    "    line.setFill(\"white\")\n",
    "    line.draw(win)\n",
    "    \n",
    "    for i in range (len(wave)):\n",
    "        point=Point(i+500, wave[i])\n",
    "        point.setFill(\"white\")\n",
    "        point.draw(win)\n",
    "            \n",
    "    t+=0.02\n",
    "    update(20)\n",
    "     \n",
    "win.close()"
   ]
  },
  {
   "cell_type": "code",
   "execution_count": 20,
   "metadata": {},
   "outputs": [
    {
     "data": {
      "image/png": "[encoded data removed]",
      "text/plain": [
       "<Figure size 432x288 with 1 Axes>"
      ]
     },
     "metadata": {
      "needs_background": "light"
     },
     "output_type": "display_data"
    },
    {
     "name": "stdout",
     "output_type": "stream",
     "text": [
      "(1660, 1000, 3)\n",
      "[463.02571811-1981.602368j   0.           +0.j\n",
      "   0.           +0.j      ]\n"
     ]
    },
    {
     "data": {
      "image/png": "[encoded data removed]",
      "text/plain": [
       "<Figure size 432x288 with 1 Axes>"
      ]
     },
     "metadata": {
      "needs_background": "light"
     },
     "output_type": "display_data"
    },
    {
     "name": "stdout",
     "output_type": "stream",
     "text": [
      "[[ True  True False ... False False  True]\n",
      " [ True  True False ... False False  True]\n",
      " [ True  True False ... False False  True]\n",
      " ...\n",
      " [ True False  True ... False  True False]\n",
      " [ True False  True ... False  True False]\n",
      " [ True False  True ... False  True False]]\n"
     ]
    }
   ],
   "source": [
    "#fft használata képeken - 2D fft\n",
    "\n",
    "\n",
    "import matplotlib.pyplot as plt\n",
    "import numpy as np\n",
    "import cv2\n",
    "\n",
    "path_to_img='/media/fbenedek/Benedek/A1/Robotizálunk/Nolato_kepfelismeres/Programok/houghlines3.jpg'\n",
    "img=cv2.imread(path_to_img)\n",
    "\n",
    "%matplotlib inline\n",
    "plt.imshow(img)\n",
    "plt.show()\n",
    "\n",
    "img_fft=np.fft.fft2(img)\n",
    "print(np.shape(img_fft))\n",
    "print(img_fft[500,200,:])\n",
    "\n",
    "mask=np.real(img_fft[:,:,0])>100\n",
    "#img_masked=np.where(img,mask)\n",
    "plt.imshow(mask)\n",
    "plt.show()\n",
    "print(mask)"
   ]
  }
 ],
 "metadata": {
  "kernelspec": {
   "display_name": "Python [conda env:tobbvalt_kepelemzes]",
   "language": "python",
   "name": "conda-env-tobbvalt_kepelemzes-py"
  },
  "language_info": {
   "codemirror_mode": {
    "name": "ipython",
    "version": 3
   },
   "file_extension": ".py",
   "mimetype": "text/x-python",
   "name": "python",
   "nbconvert_exporter": "python",
   "pygments_lexer": "ipython3",
   "version": "3.6.7"
  },
  "varInspector": {
   "cols": {
    "lenName": 16,
    "lenType": 16,
    "lenVar": 40
   },
   "kernels_config": {
    "python": {
     "delete_cmd_postfix": "",
     "delete_cmd_prefix": "del ",
     "library": "var_list.py",
     "varRefreshCmd": "print(var_dic_list())"
    },
    "r": {
     "delete_cmd_postfix": ") ",
     "delete_cmd_prefix": "rm(",
     "library": "var_list.r",
     "varRefreshCmd": "cat(var_dic_list()) "
    }
   },
   "types_to_exclude": [
    "module",
    "function",
    "builtin_function_or_method",
    "instance",
    "_Feature"
   ],
   "window_display": false
  }
 },
 "nbformat": 4,
 "nbformat_minor": 2
}
