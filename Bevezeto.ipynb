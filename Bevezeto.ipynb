{
 "cells": [
  {
   "cell_type": "markdown",
   "metadata": {},
   "source": [
    "# Többváltozós analízis mérnöki alkalmazásai - 1. gyakorlat\n",
    "\"I hear and I forget, I see and I remember, I do and I understand\" - Nem Konfuciusz\n",
    "## Mit várjatok ettől a tárgytól?\n",
    "\n",
    "A tárgy célja nem csak az, hogy a matekból tanultakat kicsit új környezetből szemléljétek, vagy az, hogy megtanuljatok Python-ban (vagy akármilyen nyelven) programozni. Egy tanulási módszert, filozófiát szeretnénk Nektek átadni: \"ha szeretnétek megérteni valamit, használjátok valamire!\": azt a sok-sok szépet, amit a BME-n tanulni lehet, csak akkor fogjátok igazán érteni, ha kezdetek is vele valamit.\n",
    "\n",
    "Az tárgy teljesítésével mélyebben elsajátítjátok azokat a koncepciókat az idei matekból, amik a mérnöki fejlesztői munkában a legfontosabbak, és olyanokat is, amik a mechatronikus képzésnek sajnos nem részei. Félév végére, 4 komplex házi feladat és egy saját projekt teljesítése után olyan szinten tudjátok majd kezelni a Python-t, hogy bármilyen ötletetek támadjon is, kis munkával meg tudjátok benne írni.\n",
    "\n",
    "## Adminisztratív\n",
    "\n",
    "- Az órákat mi (Beni, Bence) fogjuk tartani - elérhetőségünk: fbenedek19@icloud.com és ...\n",
    "- A gyakorlatokat minden héten hétfőn, 16.15-17.45-ig, a H607-ben tartjuk - érkezzetek pontosan!\n",
    "- Mi is csak harmadévesek vagyunk, ne féljetek szólni, ha szerintetek valami nem oké! Óra közben, vagy e-mail-ben, ahogy kényelmesebb, nyugodtan mondjátok meg a véleményeteket.\n",
    "- Katalógus lesz, a szokásos 70%-os jelenlét kötelező, tehát 4 hiányzás \"igazolatlanul\" megengedett, ha több összejön valami miatt, keressetek minket.\n",
    "- Ezen túl kötelezettségeitek: HF-ek elkészítése, és projektetek beadása. ZH nincs!\n",
    "- Házik: elméleti (kifejtős kérdések) és gyakorlati részeket (saját kód írása) egyaránt tartalmaznak, egyenként 20 pontot érnek.\n",
    "- A házik előreláthatólag a 2.,4.,8.,10. héten lesznek kiadva, 2 hetes határidővel. 40% (vagy 5 pont) alatti teljesítmény / üresen hagyott feladat esetén visszadobjuk. Késés, javítás esetén 50%-ról indultok, adjátok be időben! Pótbeadási határidő: 4 hét a kiadástól számítva.\n",
    "- Projektetek: egy saját magatok által megfogalmazott és megoldott probléma, velünk konzultálva kell kiválasztanotok. Lesznek megadott témák is. 40 pontot ér.\n",
    "- Jegy: 120-100 jeles, 100-80 jó, 80-60 közepes, 60-40 elégséges. Mind a négy házit, és a projektet is kötelező teljesítenetek, nem elegendő \"csak\" 40 pont.\n",
    "- Plusz pontszerzési lehetőség: az órákon sokszor lesznek önálló feladatok, az első 5 helyes megoldás +2 pontot ér.\n",
    "- \"Gentleman's Agreement\": ez a tárgy több szinten is \"illegális\", ezért nyilvánvalóan kényelmetlen lenne nekünk és a Tanárnőnek, ha a GHK-n keresztül próbálnátok megoldani bármilyen nézeteltérést. Ezért (meg mert amúgy is jófejek vagyunk) senkivel sem fogunk kibaszni - de cserébe Ti csináljátok meg szorgosan a házikat."
   ]
  },
  {
   "cell_type": "markdown",
   "metadata": {},
   "source": [
    "## Python bevezető\n",
    "\n",
    "A Python egy magas szintű, dinamikus típusos nyelv. Tervezésekor az volt a szempont, hogy könnyű legyen a fejlesztés ezen a nyelven (ugyanazt megcsinálni Pythonban (általában) kb. harmadannyi mint C/C++-ban) és szuper könyvtárak vannak hozzá, amiket mi is sokat fogunk használni, pl: NumPy, SciPy, Matplotlib. Az órán az alábbiakat fogjuk összefoglalni:\n",
    "\n",
    "-Válatozós, alapvető adattípusok (önmaga határozza meg!): int, float ,bool, str\n",
    "\n",
    "-Alapvető adattípusok (List, Dict, Set, Tuple), függvények\n",
    "\n",
    "-Ciklusok, elágazások\n",
    "\n",
    "Kezdjük a telepítéssel !!(!)"
   ]
  },
  {
   "cell_type": "markdown",
   "metadata": {},
   "source": [
    "## Adattípusok\n",
    "\n",
    "Int, float, bool és string: ugyanúgy, mint ahogy tavaly tanultátok. Az értékadás kicsit érdekesebb: a Pythonban nem kell deklarálni a változókat, simán leírhatom, hogy x=3, és az compiler tudni fogja, hogy egész értékként kell kezelni. Ha nem jelzem külön a szándékomat, a fordító dönti el, hogy milyen változó milyen típusú."
   ]
  },
  {
   "cell_type": "code",
   "execution_count": 68,
   "metadata": {},
   "outputs": [
    {
     "name": "stdout",
     "output_type": "stream",
     "text": [
      "3 <class 'int'>\n",
      "4.2 <class 'float'>\n",
      "string <class 'str'>\n",
      "True <class 'bool'>\n",
      "(1-2j) <class 'complex'>\n"
     ]
    }
   ],
   "source": [
    "#dinamikus típusok megmutatása: beírni int, float, str, bool, complex!\n",
    "\n",
    "x=3\n",
    "print(x, type(x))\n",
    "y=4.20\n",
    "print(y,type(y))\n",
    "z='string'\n",
    "print(z,type(z))\n",
    "we_love_mogi=True\n",
    "print(we_love_mogi, type(we_love_mogi))\n",
    "c=1-2j\n",
    "print(c,type(c))\n",
    "\n"
   ]
  },
  {
   "cell_type": "code",
   "execution_count": null,
   "metadata": {},
   "outputs": [],
   "source": [
    "'''kommentke\n",
    "Multiline string igazából, de ha van előtte kód, a fordító nem foglalkozik vele.\n",
    "kommentke'''"
   ]
  },
  {
   "cell_type": "code",
   "execution_count": 28,
   "metadata": {},
   "outputs": [
    {
     "name": "stdout",
     "output_type": "stream",
     "text": [
      "4\n",
      "2\n",
      "6\n",
      "1.5 <class 'float'>\n",
      "1 <class 'int'>\n",
      "1\n",
      "9\n"
     ]
    }
   ],
   "source": [
    "#Alapműveletek\n",
    "print(x+1) #Összeadok\n",
    "print(x-1) #Kivonok\n",
    "print(x*2) #szorzok\n",
    "print(x/2, type(x/2)) #osztok, típus\n",
    "print(x//2, type(x//2)) #kerekítve osztok, típus\n",
    "print(x%2) #modulus/maradék\n",
    "print(x ** 2) #hatványozok"
   ]
  },
  {
   "cell_type": "code",
   "execution_count": 29,
   "metadata": {},
   "outputs": [
    {
     "name": "stdout",
     "output_type": "stream",
     "text": [
      "4 4\n"
     ]
    }
   ],
   "source": [
    "#értékadás\n",
    "a = x-1\n",
    "x = x+1\n",
    "a += 2\n",
    "print(x,a)"
   ]
  },
  {
   "cell_type": "code",
   "execution_count": 30,
   "metadata": {},
   "outputs": [
    {
     "name": "stdout",
     "output_type": "stream",
     "text": [
      "9 <class 'int'>\n",
      "42 <class 'int'>\n"
     ]
    }
   ],
   "source": [
    "#jegyezzük meg: pythonban nincs \"x++\"\n",
    "#Viszont ami van, de nem mindenki szokta tudni, és néha hasznos: kettes\n",
    "#számrendszer+hexa? Ez általában alacsonyabb szintű programozáskor\n",
    "#(pl mikrokontrollerek bitvarázslása) jön jól, de megmutatom azért\n",
    "binaris=0b1001\n",
    "hexadecimalis=0x2A\n",
    "print(binaris, type(binaris))\n",
    "print(hexadecimalis, type(hexadecimalis))"
   ]
  },
  {
   "cell_type": "code",
   "execution_count": 31,
   "metadata": {},
   "outputs": [],
   "source": [
    "#Tudjátok, hogy mit jelent az int és a float? De tényleg? \n",
    "#Akkor lássunk hozzá első python feladatunkhoz!\n",
    "\n",
    "#írassuk ki a leges-legnagyobb 32 bites float számot ( IEEE 754 szabvány szerinti) decimális értékben!\n",
    "#Használjátok az internetet! \n",
    "#https://en.wikipedia.org/wiki/Single-precision_floating-point_format"
   ]
  },
  {
   "cell_type": "code",
   "execution_count": 32,
   "metadata": {
    "scrolled": true
   },
   "outputs": [
    {
     "name": "stdout",
     "output_type": "stream",
     "text": [
      "254\n",
      "0.9999999403953552\n",
      "A legnagyobb float32 ezért 3.4028235677973366e+38\n"
     ]
    }
   ],
   "source": [
    "karakterisztika=0b11111110 #8bit karakterisztika (hatvanykitevo) mantissza=2**(-24)*0b111111111111111111111111 #24bit mantissza (hatvanyalap)\n",
    "print(karakterisztika)\n",
    "print(mantissza)\n",
    "ertek=(1+mantissza)*2**(karakterisztika-127)\n",
    "print('A legnagyobb float32 ezért %s' %(ertek))"
   ]
  },
  {
   "cell_type": "code",
   "execution_count": 33,
   "metadata": {},
   "outputs": [
    {
     "name": "stdout",
     "output_type": "stream",
     "text": [
      "True <class 'bool'>\n",
      "False <class 'bool'>\n"
     ]
    }
   ],
   "source": [
    "#Logikai értékek\n",
    "t = True\n",
    "f = False\n",
    "print(t, type (t))\n",
    "print(f, type (f))"
   ]
  },
  {
   "cell_type": "code",
   "execution_count": 34,
   "metadata": {},
   "outputs": [
    {
     "name": "stdout",
     "output_type": "stream",
     "text": [
      "False\n",
      "True\n",
      "True\n"
     ]
    }
   ],
   "source": [
    "#Logikai műveletek\n",
    "print(t and f)#Logikai ÉS\n",
    "print(t or f)#Logikai VAGY\n",
    "print(not f) #Logikai NEM/NEGÁCIÓ"
   ]
  },
  {
   "cell_type": "code",
   "execution_count": 37,
   "metadata": {},
   "outputs": [
    {
     "name": "stdout",
     "output_type": "stream",
     "text": [
      "True\n",
      "False\n",
      "False\n",
      "True\n",
      "True <class 'bool'>\n"
     ]
    }
   ],
   "source": [
    "#Értékek összehasonlítása\n",
    "print(2<3)\n",
    "print(x==3) #a szokásos hiba: Progalap után ne csináljuk! \n",
    "print(2==3)\n",
    "print(2!=3)\n",
    "t=2<3\n",
    "print(t, type(t))"
   ]
  },
  {
   "cell_type": "code",
   "execution_count": 38,
   "metadata": {},
   "outputs": [
    {
     "name": "stdout",
     "output_type": "stream",
     "text": [
      "Így működik az if!\n",
      "mivan, negatív?\n"
     ]
    }
   ],
   "source": [
    "#if feltétel:\n",
    "if(True): print(\"Így működik az if!\")\n",
    "t=-1\n",
    "if(0<t):\n",
    "    print(\"mi van, pozitív\")\n",
    "elif(0>t):\n",
    "    print(\"mivan, negatív?\")\n",
    "else:\n",
    "    print(\"szökik a málna!\")\n",
    "#case nincs: https://jaxenter.com/implement-switch-case-statement-python-138315.html kicsit más gondolkodásmódot igényel.\n",
    "#iterátorral próbáljuk megoldani, amikor lehet, akkor könnyű"
   ]
  },
  {
   "cell_type": "code",
   "execution_count": 39,
   "metadata": {},
   "outputs": [
    {
     "name": "stdout",
     "output_type": "stream",
     "text": [
      "3\n",
      "3\n"
     ]
    }
   ],
   "source": [
    "def fuggvenyem(parameter1,parameter2):\n",
    "    eredmeny=parameter1+parameter2\n",
    "    print(eredmeny)\n",
    "\n",
    "def fuggvenyem_return(parameter1,parameter2):\n",
    "    eredmeny=parameter1+parameter2\n",
    "    return eredmeny\n",
    "\n",
    "fuggvenyem(1,2)\n",
    "eredmeny=fuggvenyem_return(1,2)\n",
    "print(eredmeny)"
   ]
  },
  {
   "cell_type": "code",
   "execution_count": 40,
   "metadata": {},
   "outputs": [
    {
     "name": "stdout",
     "output_type": "stream",
     "text": [
      "0\n",
      "-1\n",
      "1\n"
     ]
    }
   ],
   "source": [
    "#2. feladat: valósítsátok meg Pythonban az R->R sgn(x) függvényt!\n",
    "def sign(x):\n",
    "    if(x>0):\n",
    "        return 1\n",
    "    elif(0>x):\n",
    "        return -1\n",
    "    else:\n",
    "        return 0\n",
    "print(sign(0))\n",
    "print(sign(-420))\n",
    "print(sign(69))"
   ]
  },
  {
   "cell_type": "code",
   "execution_count": 45,
   "metadata": {},
   "outputs": [
    {
     "name": "stdout",
     "output_type": "stream",
     "text": [
      "szervusz <class 'str'> 8\n"
     ]
    }
   ],
   "source": [
    "#Stringek\n",
    "hello='szervusz' #egyszeres\n",
    "world=\"világ\" #vagy töbszörös idézőjel, mindegy\n",
    "print(hello, type(hello), len(hello)) #len függvény:dolgok hossza (string, list)"
   ]
  },
  {
   "cell_type": "code",
   "execution_count": 46,
   "metadata": {},
   "outputs": [
    {
     "name": "stdout",
     "output_type": "stream",
     "text": [
      "szervusz világ!\n"
     ]
    }
   ],
   "source": [
    "#Műveletek stringekkel\n",
    "hw = hello + ' ' + world + '!' #konkatenáció\n",
    "print(hw)"
   ]
  },
  {
   "cell_type": "code",
   "execution_count": 47,
   "metadata": {},
   "outputs": [
    {
     "name": "stdout",
     "output_type": "stream",
     "text": [
      "szervusz világ! 1488\n"
     ]
    }
   ],
   "source": [
    "hw_szam = '%s %s%s %d' %(hello, world, '!', 1488) #sprintf-féle string formatting\n",
    "print(hw_szam)"
   ]
  },
  {
   "cell_type": "code",
   "execution_count": 48,
   "metadata": {},
   "outputs": [
    {
     "name": "stdout",
     "output_type": "stream",
     "text": [
      "Szervusz világ!\n",
      "SZERVUSZ VILÁG!\n",
      "     szervusz világ!\n",
      "  szervusz világ!   \n",
      "szervusz világ!\n",
      "szervusz világ!\n"
     ]
    },
    {
     "data": {
      "text/plain": [
       "['zold', 'kek', 'piros']"
      ]
     },
     "execution_count": 48,
     "metadata": {},
     "output_type": "execute_result"
    }
   ],
   "source": [
    "#még pár hasznos string metódus, jól jöhetnek\n",
    "#mi az a metódus: olyan függvények, amiket \"tulajdonságként\" hívunk meg.\n",
    "print(hw.capitalize())\n",
    "print(hw.upper())\n",
    "print(hw.rjust(20))\n",
    "print(hw.center(20))\n",
    "print(hw.replace('S','SS'))\n",
    "print(hw.center(20).strip())\n",
    "hosszu_string='zold,kek,piros'\n",
    "hosszu_string.split(\",\")"
   ]
  },
  {
   "cell_type": "code",
   "execution_count": 49,
   "metadata": {},
   "outputs": [
    {
     "name": "stdout",
     "output_type": "stream",
     "text": [
      "32 <class 'int'>\n"
     ]
    }
   ],
   "source": []
  },
  {
   "cell_type": "code",
   "execution_count": null,
   "metadata": {},
   "outputs": [],
   "source": []
  },
  {
   "cell_type": "code",
   "execution_count": 6,
   "metadata": {},
   "outputs": [
    {
     "name": "stdout",
     "output_type": "stream",
     "text": [
      "[1, 2, 3, 4, 'string']\n",
      "2\n"
     ]
    }
   ],
   "source": [
    "#Listák: többféle adattípust tartalmazhatnak, címezéssel férhetünk hozzájuk\n",
    "#index 0-tól indul\n",
    "listam = [1,2,3,4,'string']\n",
    "print(listam)\n",
    "print(listam[1])"
   ]
  },
  {
   "cell_type": "code",
   "execution_count": 63,
   "metadata": {},
   "outputs": [
    {
     "name": "stdout",
     "output_type": "stream",
     "text": [
      "[0, 1, 2, 3, 4, 5, 6, 'meg_egy_string']\n",
      "meg_egy_string [0, 1, 2, 3, 4, 5, 6]\n",
      "2 [0, 1, 3, 4, 5, 6]\n"
     ]
    }
   ],
   "source": [
    "#elemek hozzáadása, törlése\n",
    "listam.append('meg_egy_string') #append: hozzáfűzök egy elemet a végére\n",
    "print(listam)\n",
    "utolso_elem = listam.pop() #pop: kiveszi az utolsót, és visszaadja\n",
    "print(utolso_elem, listam)\n",
    "valamelyik_elem = listam.pop(2)\n",
    "print(valamelyik_elem, listam)"
   ]
  },
  {
   "cell_type": "code",
   "execution_count": null,
   "metadata": {},
   "outputs": [],
   "source": []
  },
  {
   "cell_type": "code",
   "execution_count": 52,
   "metadata": {},
   "outputs": [
    {
     "name": "stdout",
     "output_type": "stream",
     "text": [
      "5\n",
      "[0, 1]\n",
      "[1, 2, 3, 4, 5]\n",
      "[5]\n",
      "[0, 1, 2, 3]\n",
      "[1, 2, 3]\n",
      "[0, 6, 9, 3, 4, 5]\n"
     ]
    }
   ],
   "source": [
    "#Szeletelés, \"slicing\" - nagyon kényelmes és elengáns, mindenki figyelje!\n",
    "szamok= [0,1,2,3,4,5] #beépített funkció intek generálására\n",
    "\n",
    "print(szamok[-1])\n",
    "print(szamok[0:2])\n",
    "print(szamok[1:])\n",
    "print(szamok[-1:]) #üres-e, miért?\n",
    "print(szamok[:-2])\n",
    "print(szamok[1:-2])\n",
    "szamok[1:3] = [6,9]\n",
    "print(szamok)"
   ]
  },
  {
   "cell_type": "code",
   "execution_count": 53,
   "metadata": {},
   "outputs": [
    {
     "name": "stdout",
     "output_type": "stream",
     "text": [
      "0\n",
      "6\n",
      "9\n",
      "3\n",
      "4\n",
      "5\n"
     ]
    }
   ],
   "source": [
    "#Loop: \"for\" ciklushoz hasonló szerkezetekre: végighalad egy List/Range elemein\n",
    "for i in szamok:\n",
    "    print(i)"
   ]
  },
  {
   "cell_type": "code",
   "execution_count": 54,
   "metadata": {},
   "outputs": [
    {
     "name": "stdout",
     "output_type": "stream",
     "text": [
      "[3, 2, 19]\n"
     ]
    }
   ],
   "source": [
    "#Feladat: keressük meg [1,3,2,6,4,12,10,19]-ben azokat a számokat, amiknek\n",
    "#nincs közös osztójuk!\n",
    "tombom=[3,2,6,4,12,10,19]\n",
    "nincs_kozos_oszto=[]\n",
    "for szam in tombom:\n",
    "    oszto=False\n",
    "    for relativ_prim in nincs_kozos_oszto:\n",
    "        if szam%relativ_prim==0: oszto=True\n",
    "    if(not oszto): nincs_kozos_oszto.append(szam)\n",
    "        \n",
    "print(nincs_kozos_oszto)"
   ]
  },
  {
   "cell_type": "code",
   "execution_count": 55,
   "metadata": {
    "scrolled": true
   },
   "outputs": [
    {
     "name": "stdout",
     "output_type": "stream",
     "text": [
      "<class 'range'>\n",
      "range(0, 50, 10)\n",
      "0\n",
      "10\n",
      "20\n",
      "30\n",
      "40\n"
     ]
    }
   ],
   "source": [
    "t=range(0,50,10)\n",
    "print(type(t))\n",
    "print(t) #range elemeit így nem érem el (python 2.7ben még igen, \n",
    "#ha jól emlékszem)\n",
    "for szam in t:\n",
    "    print(szam)"
   ]
  },
  {
   "cell_type": "code",
   "execution_count": 56,
   "metadata": {},
   "outputs": [
    {
     "name": "stdout",
     "output_type": "stream",
     "text": [
      "[0, 1, 4, 9, 16]\n"
     ]
    }
   ],
   "source": [
    "#Műveletek listákkal:\n",
    "szamok=[0,1,2,3,4]\n",
    "negyzetek=[]\n",
    "for i in szamok:\n",
    "    negyzetek.append(i**2)\n",
    "print(negyzetek)"
   ]
  },
  {
   "cell_type": "code",
   "execution_count": 57,
   "metadata": {},
   "outputs": [
    {
     "name": "stdout",
     "output_type": "stream",
     "text": [
      "[0, 1, 8, 27, 64]\n"
     ]
    }
   ],
   "source": [
    "kobok =[i**3 for i in szamok]\n",
    "print(kobok)"
   ]
  },
  {
   "cell_type": "code",
   "execution_count": 58,
   "metadata": {},
   "outputs": [
    {
     "name": "stdout",
     "output_type": "stream",
     "text": [
      "[0, 12]\n"
     ]
    }
   ],
   "source": [
    "#Lehetnek benne feltetelek is!\n",
    "listam=[0,1,2,3,4,5,6]\n",
    "listam_2=[i*2 for i in listam if(i%2==0 and i%3==0)] #ide else-t nem lehet irni\n",
    "print(listam_2)"
   ]
  },
  {
   "cell_type": "code",
   "execution_count": 59,
   "metadata": {},
   "outputs": [
    {
     "name": "stdout",
     "output_type": "stream",
     "text": [
      "True\n"
     ]
    }
   ],
   "source": [
    "#in, keresés\n",
    "print(0 in listam)"
   ]
  },
  {
   "cell_type": "code",
   "execution_count": 60,
   "metadata": {},
   "outputs": [
    {
     "name": "stdout",
     "output_type": "stream",
     "text": [
      "MOGI\n"
     ]
    },
    {
     "ename": "KeyError",
     "evalue": "'Anyagismeret'",
     "output_type": "error",
     "traceback": [
      "\u001b[0;31m---------------------------------------------------------------------------\u001b[0m",
      "\u001b[0;31mKeyError\u001b[0m                                  Traceback (most recent call last)",
      "\u001b[0;32m<ipython-input-60-03114cdda206>\u001b[0m in \u001b[0;36m<module>\u001b[0;34m\u001b[0m\n\u001b[1;32m      3\u001b[0m \u001b[0mdict\u001b[0m \u001b[0;34m=\u001b[0m \u001b[0;34m{\u001b[0m\u001b[0;34m'Progterv'\u001b[0m\u001b[0;34m:\u001b[0m\u001b[0;34m'MOGI'\u001b[0m\u001b[0;34m,\u001b[0m \u001b[0;34m'Statika'\u001b[0m\u001b[0;34m:\u001b[0m\u001b[0;34m'MM'\u001b[0m\u001b[0;34m,\u001b[0m \u001b[0;34m'Mecha_alapjai'\u001b[0m\u001b[0;34m:\u001b[0m\u001b[0;34m'MOGI'\u001b[0m\u001b[0;34m}\u001b[0m\u001b[0;34m\u001b[0m\u001b[0;34m\u001b[0m\u001b[0m\n\u001b[1;32m      4\u001b[0m \u001b[0mprint\u001b[0m\u001b[0;34m(\u001b[0m\u001b[0mdict\u001b[0m\u001b[0;34m[\u001b[0m\u001b[0;34m'Progterv'\u001b[0m\u001b[0;34m]\u001b[0m\u001b[0;34m)\u001b[0m\u001b[0;34m\u001b[0m\u001b[0;34m\u001b[0m\u001b[0m\n\u001b[0;32m----> 5\u001b[0;31m \u001b[0mprint\u001b[0m\u001b[0;34m(\u001b[0m\u001b[0mdict\u001b[0m\u001b[0;34m[\u001b[0m\u001b[0;34m'Anyagismeret'\u001b[0m\u001b[0;34m]\u001b[0m\u001b[0;34m)\u001b[0m\u001b[0;34m\u001b[0m\u001b[0;34m\u001b[0m\u001b[0m\n\u001b[0m\u001b[1;32m      6\u001b[0m \u001b[0mdict\u001b[0m\u001b[0;34m[\u001b[0m\u001b[0;34m'Anyagismeret'\u001b[0m\u001b[0;34m]\u001b[0m\u001b[0;34m=\u001b[0m\u001b[0;34m'ATT'\u001b[0m\u001b[0;34m\u001b[0m\u001b[0;34m\u001b[0m\u001b[0m\n\u001b[1;32m      7\u001b[0m \u001b[0mprint\u001b[0m\u001b[0;34m(\u001b[0m\u001b[0mdict\u001b[0m\u001b[0;34m[\u001b[0m\u001b[0;34m'Anyagismeret'\u001b[0m\u001b[0;34m]\u001b[0m\u001b[0;34m)\u001b[0m\u001b[0;34m\u001b[0m\u001b[0;34m\u001b[0m\u001b[0m\n",
      "\u001b[0;31mKeyError\u001b[0m: 'Anyagismeret'"
     ]
    }
   ],
   "source": [
    "#Dictek: kulcs, érték párok, {}-al elválasztva. Nem rendezett! Gráfos dolgokhoz kell majd. Egyébként ezek arra jók, hogy értsétek, amit más írt\n",
    "#Nem fogjuk sokat használni.\n",
    "dict = {'Progterv':'MOGI', 'Statika':'MM', 'Mecha_alapjai':'MOGI'}\n",
    "print(dict['Progterv'])\n",
    "print(dict['Anyagismeret'])\n",
    "dict['Anyagismeret']='ATT'\n",
    "print(dict['Anyagismeret'])"
   ]
  },
  {
   "cell_type": "code",
   "execution_count": 3,
   "metadata": {},
   "outputs": [
    {
     "name": "stdout",
     "output_type": "stream",
     "text": [
      "A(z) Progterv-t a MOGI tartja\n",
      "A(z) Statika-t a MM tartja\n",
      "A(z) Mecha_alapjai-t a MOGI tartja\n",
      "A(z) Anyagismeret-t a ATT tartja\n"
     ]
    }
   ],
   "source": [
    "for targy in dict:\n",
    "    tanszek=dict[targy]\n",
    "    print('A(z) %s-t a %s tartja' % (targy, tanszek))"
   ]
  },
  {
   "cell_type": "code",
   "execution_count": 4,
   "metadata": {},
   "outputs": [
    {
     "name": "stdout",
     "output_type": "stream",
     "text": [
      "A(z) Progterv-t a MOGI tartja\n",
      "A(z) Statika-t a MM tartja\n",
      "A(z) Mecha_alapjai-t a MOGI tartja\n",
      "A(z) Anyagismeret-t a ATT tartja\n"
     ]
    }
   ],
   "source": [
    "for targy,tanszek in dict.items():\n",
    "    print('A(z) %s-t a %s tartja' %(targy, tanszek))"
   ]
  },
  {
   "cell_type": "code",
   "execution_count": 5,
   "metadata": {},
   "outputs": [
    {
     "name": "stdout",
     "output_type": "stream",
     "text": [
      "True\n",
      "False\n"
     ]
    }
   ],
   "source": [
    "#Setek: \n",
    "#Rendezetlen elemek halmaza - matekos halmaz.\n",
    "nyelveim ={'C','C++','Python','Assembly'}\n",
    "print('Python' in nyelveim)\n",
    "print('Java' in nyelveim)"
   ]
  },
  {
   "cell_type": "code",
   "execution_count": 13,
   "metadata": {},
   "outputs": [
    {
     "name": "stdout",
     "output_type": "stream",
     "text": [
      "(5, 6) <class 'tuple'>\n"
     ]
    }
   ],
   "source": [
    "#Tuple-ok\n",
    "#Inmutable: nem lehet változtatni. List-re hasonlít, de ezt lehet keyként használni\n",
    "#egy dictben\n",
    "t=(5,6)\n",
    "print(t, type(t))\n",
    "#t[0]=1 nem ok!"
   ]
  },
  {
   "cell_type": "markdown",
   "metadata": {},
   "source": [
    "## Feladat\n",
    "\n",
    "Van egy 9 DOF-os gyorsulásmérőnk, ami soros porton keresztül küldi a mért adatokat a számítógépünkre. Az adatok stringként, soronként, a következő formátumban érkeznek:\n",
    "``` python\n",
    "'TIME,ACC_X,ACC_Y,ACC_Z,GYRO_X,GYRO_Y,GYRO_Z,MAG_X,MAG_Y,MAG_Z'```\n",
    "\n",
    "Egy bejövő sor például:\n",
    "```python\n",
    "'2313992204,-1.694118,-2.053042,-8.886943,0.006272,-0.004091,0.000682,-48.200001,-68.400002,13.000000'```\n",
    "\n",
    "A beérkezett adatokat egy dict-be tároljuk el egy függvénnyel, a key a TIME adat legyen. A kész függvényt próbáljuk ki az alábbi két soron:\n",
    "\n",
    "```python\n",
    "'2313992204,-1.674976,-2.029114,-8.886943,0.006545,-0.003682,0.000682,-48.500000,-67.599998,11.300000'\n",
    "'2313992204,-1.674976,-2.033899,-8.882157,0.006136,-0.004091,0.000273,-47.799999,-67.500000,12.300000'\n",
    "\n",
    "```"
   ]
  },
  {
   "cell_type": "code",
   "execution_count": 67,
   "metadata": {},
   "outputs": [
    {
     "name": "stdout",
     "output_type": "stream",
     "text": [
      "{2313992204: ['-1.674976', '-2.029114', '-8.886943', '0.006545', '-0.003682', '0.000682', '-48.500000', '-67.599998', '11.300000'], 2313992205: ['-1.674976', '-2.033899', '-8.882157', '0.006136', '-0.004091', '0.000273', '-47.799999', '-67.500000', '12.300000']}\n"
     ]
    }
   ],
   "source": [
    "#A dict amiben  tárolni fogok\n",
    "data={}\n",
    "serial1='2313992204,-1.674976,-2.029114,-8.886943,0.006545,-0.003682,0.000682,-48.500000,-67.599998,11.300000'\n",
    "serial2='2313992205,-1.674976,-2.033899,-8.882157,0.006136,-0.004091,0.000273,-47.799999,-67.500000,12.300000'\n",
    "def receive_data (dict_data, serial_string, delim):\n",
    "    _line=serial_string.split(delim)\n",
    "    _key=int(_line.pop(0))\n",
    "    dict_data[_key]=_line\n",
    "    \n",
    "receive_data(data,serial1,',')\n",
    "receive_data(data,serial2,',')\n",
    "print(data)"
   ]
  },
  {
   "cell_type": "code",
   "execution_count": null,
   "metadata": {},
   "outputs": [],
   "source": []
  }
 ],
 "metadata": {
  "kernelspec": {
   "display_name": "Python 3",
   "language": "python",
   "name": "python3"
  },
  "language_info": {
   "codemirror_mode": {
    "name": "ipython",
    "version": 3
   },
   "file_extension": ".py",
   "mimetype": "text/x-python",
   "name": "python",
   "nbconvert_exporter": "python",
   "pygments_lexer": "ipython3",
   "version": "3.6.7"
  }
 },
 "nbformat": 4,
 "nbformat_minor": 2
}
