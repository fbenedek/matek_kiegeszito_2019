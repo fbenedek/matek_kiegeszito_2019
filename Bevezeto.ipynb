{
 "cells": [
  {
   "cell_type": "markdown",
   "metadata": {},
   "source": [
    "## Python bevezető - 1. gyakorlat\n",
    "\n",
    "A Python egy magas szintű, dinamikus típusos nyelv. Tervezésekor az volt a szempont, hogy könnyű legyen a fejlesztés ezen a nyelven (ugyanazt megcsinálni Pythonban kb. harmadannyi mint C/C++-ban) és szuper könyvtárak vannak hozzá, amiket mi is sokat fogunk használni, pl: NumPy, SciPy, Matplotlib. Az órán az alábbiakat fogjuk összefoglalni:\n",
    "\n",
    "-Válatozós, alapvető adattípusok: int, float ,bool, str\n",
    "\n",
    "-Alapvető adattípusok (List, Dict, Set, Tuple), függvények\n",
    "\n",
    "-Ciklusok, elágazások\n",
    "\n",
    "Kezdjük a telepítéssel !!(!)"
   ]
  },
  {
   "cell_type": "markdown",
   "metadata": {},
   "source": [
    "## Adattípusok\n",
    "\n",
    "### Számok\n",
    "Int és float ugyanúgy működik, mint ahogy tavaly tanultátok. Az értékadás kicsit érdekesebb: a Pythonban nem kell deklarálni a változókat, simán leírhatom, hogy x=3, és az compiler tudni fogja"
   ]
  },
  {
   "cell_type": "code",
   "execution_count": 16,
   "metadata": {},
   "outputs": [
    {
     "name": "stdout",
     "output_type": "stream",
     "text": [
      "3 <class 'int'>\n"
     ]
    }
   ],
   "source": [
    "#dinamikus típusok megmutatása\n",
    "x=3\n",
    "print(x, type(x))\n"
   ]
  },
  {
   "cell_type": "code",
   "execution_count": 18,
   "metadata": {},
   "outputs": [
    {
     "name": "stdout",
     "output_type": "stream",
     "text": [
      "4\n",
      "2\n",
      "6\n",
      "1.5 <class 'float'>\n",
      "1 <class 'int'>\n",
      "1\n",
      "9\n"
     ]
    }
   ],
   "source": [
    "#Alapműveletek\n",
    "print(x+1) #Összeadok\n",
    "print(x-1) #Kivonok\n",
    "print(x*2) #szorzok\n",
    "print(x/2, type(x/2)) #osztok, típus\n",
    "print(x//2, type(x//2)) #kerekítve osztok, típus\n",
    "print(x%2) #modulus/maradék\n",
    "print(x ** 2) #hatványozok"
   ]
  },
  {
   "cell_type": "code",
   "execution_count": 15,
   "metadata": {},
   "outputs": [
    {
     "name": "stdout",
     "output_type": "stream",
     "text": [
      "5 5\n"
     ]
    }
   ],
   "source": [
    "#értékadás\n",
    "a = x-1\n",
    "x = x+1\n",
    "a += 2\n",
    "print(x,a)"
   ]
  },
  {
   "cell_type": "code",
   "execution_count": 4,
   "metadata": {},
   "outputs": [
    {
     "name": "stdout",
     "output_type": "stream",
     "text": [
      "9 <class 'int'>\n",
      "42 <class 'int'>\n"
     ]
    }
   ],
   "source": [
    "#jegyezzük meg: pythonban nincs \"x++\"\n",
    "#Viszont ami van, de nem mindenki szokta tudni, és néha hasznos: kettes\n",
    "#számrendszer+hexa? Ez általában alacsonyabb szintű programozáskor\n",
    "#(pl mikrokontrollerek bitvarázslása) jön jól, de megmutatom azért\n",
    "binaris=0b1001\n",
    "hexadecimalis=0x2A\n",
    "print(binaris, type(binaris))\n",
    "print(hexadecimalis, type(hexadecimalis))"
   ]
  },
  {
   "cell_type": "code",
   "execution_count": 6,
   "metadata": {},
   "outputs": [],
   "source": [
    "#Tudjátok, hogy mit jelent az int és a float? De tényleg? \n",
    "#Akkor lássunk hozzá első python feladatunkhoz!\n",
    "\n",
    "#írassuk ki a leges-legnagyobb 32 bites float számot decimális értékben!\n",
    "#Használjátok az internetet!"
   ]
  },
  {
   "cell_type": "code",
   "execution_count": 10,
   "metadata": {},
   "outputs": [
    {
     "name": "stdout",
     "output_type": "stream",
     "text": [
      "127\n",
      "33554431\n",
      "5708990600682656063763912146110676829646880768\n"
     ]
    }
   ],
   "source": [
    "karakterisztika=0b1111111 #7bit karakterisztika (hatvanykitevo)\n",
    "mantissza=0b1111111111111111111111111 #24bit mantissza (hatvanyalap)\n",
    "print(karakterisztika)\n",
    "print(mantissza)\n",
    "print(mantissza*(2**karakterisztika))"
   ]
  },
  {
   "cell_type": "code",
   "execution_count": 12,
   "metadata": {},
   "outputs": [
    {
     "name": "stdout",
     "output_type": "stream",
     "text": [
      "True <class 'bool'>\n",
      "False <class 'bool'>\n"
     ]
    }
   ],
   "source": [
    "#Logikai értékek\n",
    "t = True\n",
    "f = False\n",
    "print(t, type (t))\n",
    "print(f, type (f))"
   ]
  },
  {
   "cell_type": "code",
   "execution_count": 43,
   "metadata": {},
   "outputs": [
    {
     "name": "stdout",
     "output_type": "stream",
     "text": [
      "False\n",
      "True\n",
      "True\n"
     ]
    }
   ],
   "source": [
    "#Logikai műveletek\n",
    "print(t and f)#Logikai ÉS\n",
    "print(t or f)#Logikai VAGY\n",
    "print(not f) #Logikai NEM/NEGÁCIÓ"
   ]
  },
  {
   "cell_type": "code",
   "execution_count": 75,
   "metadata": {},
   "outputs": [
    {
     "name": "stdout",
     "output_type": "stream",
     "text": [
      "True\n",
      "False\n",
      "True\n",
      "True <class 'bool'>\n"
     ]
    }
   ],
   "source": [
    "#Értékek összehasonlítása\n",
    "print(2<3)\n",
    "print(2==3)\n",
    "print(2!=3)\n",
    "t=2<3\n",
    "print(t, type(t))"
   ]
  },
  {
   "cell_type": "code",
   "execution_count": 8,
   "metadata": {},
   "outputs": [
    {
     "name": "stdout",
     "output_type": "stream",
     "text": [
      "Így működik az if!\n",
      "mivan, negatív?\n"
     ]
    }
   ],
   "source": [
    "#if feltétel:\n",
    "if(True): print(\"Így működik az if!\")\n",
    "t=-1\n",
    "if(0<t):\n",
    "    print(\"pozitív\")\n",
    "elif(0>t):\n",
    "    print(\"mivan, negatív?\")\n",
    "else:\n",
    "    print(\"nulla\")"
   ]
  },
  {
   "cell_type": "code",
   "execution_count": 9,
   "metadata": {},
   "outputs": [
    {
     "name": "stdout",
     "output_type": "stream",
     "text": [
      "3\n",
      "3\n"
     ]
    }
   ],
   "source": [
    "def fuggvenyem(parameter1,parameter2):\n",
    "    eredmeny=parameter1+parameter2\n",
    "    print(eredmeny)\n",
    "\n",
    "def fuggvenyem_return(parameter1,parameter2):\n",
    "    eredmeny=parameter1+parameter2\n",
    "    return eredmeny\n",
    "\n",
    "fuggvenyem(1,2)\n",
    "eredmeny=fuggvenyem_return(1,2)\n",
    "print(eredmeny)"
   ]
  },
  {
   "cell_type": "code",
   "execution_count": 10,
   "metadata": {},
   "outputs": [
    {
     "name": "stdout",
     "output_type": "stream",
     "text": [
      "0\n",
      "-1\n",
      "1\n"
     ]
    }
   ],
   "source": [
    "#2. feladat: valósítsátok meg Pythonban az R->R sgn(x) függvényt!\n",
    "def sign(x):\n",
    "    if(x>0):\n",
    "        return 1\n",
    "    elif(0>x):\n",
    "        return -1\n",
    "    else:\n",
    "        return 0\n",
    "print(sign(0))\n",
    "print(sign(-420))\n",
    "print(sign(69))"
   ]
  },
  {
   "cell_type": "code",
   "execution_count": 21,
   "metadata": {},
   "outputs": [
    {
     "name": "stdout",
     "output_type": "stream",
     "text": [
      "Szervusz <class 'str'> 8\n"
     ]
    }
   ],
   "source": [
    "#Stringek\n",
    "hello='szervusz' #egyszeres\n",
    "world=\"világ\" #vagy töbszörös idézőjel, mindegy\n",
    "print(hello, type(hello), len(hello)) #len függvény:dolgok hossza (string, list)"
   ]
  },
  {
   "cell_type": "code",
   "execution_count": 22,
   "metadata": {},
   "outputs": [
    {
     "name": "stdout",
     "output_type": "stream",
     "text": [
      "Szervusz világ!\n"
     ]
    }
   ],
   "source": [
    "#Műveletek stringekkel\n",
    "hw = hello + ' ' + world + '!' #konkatenáció\n",
    "print(hw)"
   ]
  },
  {
   "cell_type": "code",
   "execution_count": 27,
   "metadata": {},
   "outputs": [
    {
     "name": "stdout",
     "output_type": "stream",
     "text": [
      "Szervusz világ! 1488\n"
     ]
    }
   ],
   "source": [
    "hw_szam = '%s %s%s %d' %(hello, world, '!', 1488) #sprintf-féle string formatting\n",
    "print(hw_szam)"
   ]
  },
  {
   "cell_type": "code",
   "execution_count": 30,
   "metadata": {},
   "outputs": [
    {
     "name": "stdout",
     "output_type": "stream",
     "text": [
      "Szervusz világ!\n",
      "SZERVUSZ VILÁG!\n",
      "     Szervusz világ!\n",
      "  Szervusz világ!   \n",
      "SSzervusz világ!\n",
      "Szervusz világ!\n"
     ]
    }
   ],
   "source": [
    "#még pár hasznos string metódus, jól jöhetnek\n",
    "#mi az a metódus: olyan függvények, amiket \"tulajdonságként\" hívunk meg.\n",
    "print(hw.capitalize())\n",
    "print(hw.upper())\n",
    "print(hw.rjust(20))\n",
    "print(hw.center(20))\n",
    "print(hw.replace('S','SS'))\n",
    "print(hw.center(20).strip())"
   ]
  },
  {
   "cell_type": "code",
   "execution_count": null,
   "metadata": {},
   "outputs": [],
   "source": [
    "#Feladat: 9 DOF gyorsulásszenzorból érkező adat logolására írjatok fg-t! (Bence!)"
   ]
  },
  {
   "cell_type": "code",
   "execution_count": 42,
   "metadata": {},
   "outputs": [
    {
     "name": "stdout",
     "output_type": "stream",
     "text": [
      "[1, 2, 3, 4, 'string']\n",
      "2\n"
     ]
    }
   ],
   "source": [
    "#Listák: többféle adattípust tartalmazhatnak, címezéssel férhetünk hozzájuk\n",
    "#index 0-tól indul\n",
    "listam = [1,2,3,4,'string']\n",
    "print(listam)\n",
    "print(listam[1])"
   ]
  },
  {
   "cell_type": "code",
   "execution_count": null,
   "metadata": {},
   "outputs": [],
   "source": [
    "#elemek hozzáadása, törlése\n",
    "listam.append('meg_egy_string') #append: hozzáfűzök egy elemet a végére\n",
    "print(listam)\n",
    "utolso_elem = listam.pop() #pop: kiveszi az utolsót, és visszaadja"
   ]
  },
  {
   "cell_type": "code",
   "execution_count": 57,
   "metadata": {},
   "outputs": [
    {
     "name": "stdout",
     "output_type": "stream",
     "text": [
      "5\n",
      "[0, 1]\n",
      "[1, 2, 3, 4, 5]\n",
      "[5]\n",
      "[0, 1, 2, 3]\n",
      "[1, 2, 3]\n",
      "[0, 6, 9, 3, 4, 5]\n"
     ]
    }
   ],
   "source": [
    "#Szeletelés, \"slicing\" - nagyon kényelmes és elengáns, mindenki figyelje!\n",
    "szamok= [0,1,2,3,4,5] #beépített funkció intek generálására\n",
    "\n",
    "print(szamok[-1])\n",
    "print(szamok[0:2])\n",
    "print(szamok[1:])\n",
    "print(szamok[-1:])\n",
    "print(szamok[:-2])\n",
    "print(szamok[1:-2])\n",
    "szamok[1:3] = [6,9]\n",
    "print(szamok)"
   ]
  },
  {
   "cell_type": "code",
   "execution_count": 59,
   "metadata": {},
   "outputs": [
    {
     "name": "stdout",
     "output_type": "stream",
     "text": [
      "0\n",
      "6\n",
      "9\n",
      "3\n",
      "4\n",
      "5\n"
     ]
    }
   ],
   "source": [
    "#Loop: \"for\" ciklushoz hasonló szerkezetekre: végighalad egy List/Range elemein\n",
    "for i in szamok:\n",
    "    print(i)"
   ]
  },
  {
   "cell_type": "code",
   "execution_count": 104,
   "metadata": {},
   "outputs": [
    {
     "name": "stdout",
     "output_type": "stream",
     "text": [
      "[3, 2, 19]\n"
     ]
    }
   ],
   "source": [
    "#Feladat: keressük meg [1,3,2,6,4,12,10,19]-ben azokat a számokat, amiknek\n",
    "#nincs közös osztójuk!\n",
    "tombom=[3,2,6,4,12,10,19]\n",
    "nincs_kozos_oszto=[]\n",
    "for szam in tombom:\n",
    "    oszto=False\n",
    "    for relativ_prim in nincs_kozos_oszto:\n",
    "        if szam%relativ_prim==0: oszto=True\n",
    "    if(not oszto): nincs_kozos_oszto.append(szam)\n",
    "        \n",
    "print(nincs_kozos_oszto)"
   ]
  },
  {
   "cell_type": "code",
   "execution_count": 90,
   "metadata": {
    "scrolled": true
   },
   "outputs": [
    {
     "name": "stdout",
     "output_type": "stream",
     "text": [
      "<class 'range'>\n",
      "range(0, 50, 10)\n",
      "0\n",
      "10\n",
      "20\n",
      "30\n",
      "40\n"
     ]
    }
   ],
   "source": [
    "t=range(0,50,10)\n",
    "print(type(t))\n",
    "print(t) #range elemeit így nem érem el (python 2.7ben még igen, \n",
    "#ha jól emlékszem)\n",
    "for szam in t:\n",
    "    print(szam)"
   ]
  },
  {
   "cell_type": "code",
   "execution_count": 69,
   "metadata": {},
   "outputs": [
    {
     "name": "stdout",
     "output_type": "stream",
     "text": [
      "[0, 1, 4, 9, 16]\n"
     ]
    }
   ],
   "source": [
    "#Műveletek listákkal:\n",
    "szamok=[0,1,2,3,4]\n",
    "negyzetek=[]\n",
    "for i in szamok:\n",
    "    negyzetek.append(i**2)\n",
    "print(negyzetek)"
   ]
  },
  {
   "cell_type": "code",
   "execution_count": 77,
   "metadata": {},
   "outputs": [
    {
     "name": "stdout",
     "output_type": "stream",
     "text": [
      "[0, 1, 8, 27, 64]\n"
     ]
    }
   ],
   "source": [
    "kobok =[i**3 for i in szamok]\n",
    "print(kobok)"
   ]
  },
  {
   "cell_type": "code",
   "execution_count": 93,
   "metadata": {},
   "outputs": [
    {
     "name": "stdout",
     "output_type": "stream",
     "text": [
      "[0, 4, 8, 12]\n"
     ]
    }
   ],
   "source": [
    "#Lehetnek benne feltetelek is!\n",
    "listam=[0,1,2,3,4,5,6]\n",
    "listam_2=[i*2 for i in listam if(i%2==0)] #ide else-t nem lehet irni\n",
    "print(listam_2)"
   ]
  },
  {
   "cell_type": "code",
   "execution_count": 95,
   "metadata": {},
   "outputs": [
    {
     "name": "stdout",
     "output_type": "stream",
     "text": [
      "True\n"
     ]
    }
   ],
   "source": [
    "#in, keresés\n",
    "print(0 in listam)"
   ]
  },
  {
   "cell_type": "code",
   "execution_count": 2,
   "metadata": {},
   "outputs": [
    {
     "name": "stdout",
     "output_type": "stream",
     "text": [
      "MOGI\n",
      "ATT\n"
     ]
    }
   ],
   "source": [
    "#Dictek: kulcs, érték párok, {}-al elválasztva. Nem rendezett!\n",
    "#Nem fogjuk sokat használni.\n",
    "dict = {'Progterv':'MOGI', 'Statika':'MM', 'Mecha_alapjai':'MOGI'}\n",
    "print(dict['Progterv'])\n",
    "print(dict['Anyagismeret'])\n",
    "dict['Anyagismeret']='ATT'\n",
    "print(dict['Anyagismeret'])"
   ]
  },
  {
   "cell_type": "code",
   "execution_count": 3,
   "metadata": {},
   "outputs": [
    {
     "name": "stdout",
     "output_type": "stream",
     "text": [
      "A(z) Progterv-t a MOGI tartja\n",
      "A(z) Statika-t a MM tartja\n",
      "A(z) Mecha_alapjai-t a MOGI tartja\n",
      "A(z) Anyagismeret-t a ATT tartja\n"
     ]
    }
   ],
   "source": [
    "for targy in dict:\n",
    "    tanszek=dict[targy]\n",
    "    print('A(z) %s-t a %s tartja' % (targy, tanszek))"
   ]
  },
  {
   "cell_type": "code",
   "execution_count": 4,
   "metadata": {},
   "outputs": [
    {
     "name": "stdout",
     "output_type": "stream",
     "text": [
      "A(z) Progterv-t a MOGI tartja\n",
      "A(z) Statika-t a MM tartja\n",
      "A(z) Mecha_alapjai-t a MOGI tartja\n",
      "A(z) Anyagismeret-t a ATT tartja\n"
     ]
    }
   ],
   "source": [
    "for targy,tanszek in dict.items():\n",
    "    print('A(z) %s-t a %s tartja' %(targy, tanszek))"
   ]
  },
  {
   "cell_type": "code",
   "execution_count": 5,
   "metadata": {},
   "outputs": [
    {
     "name": "stdout",
     "output_type": "stream",
     "text": [
      "True\n",
      "False\n"
     ]
    }
   ],
   "source": [
    "#Setek\n",
    "#Rendezetlen elemek halmaza - matekos halmaz.\n",
    "nyelveim ={'C','C++','Python','Assembly'}\n",
    "print('Python' in nyelveim)\n",
    "print('Java' in nyelveim)"
   ]
  },
  {
   "cell_type": "code",
   "execution_count": 13,
   "metadata": {},
   "outputs": [
    {
     "name": "stdout",
     "output_type": "stream",
     "text": [
      "(5, 6) <class 'tuple'>\n"
     ]
    }
   ],
   "source": [
    "#Tuple-ok\n",
    "#Inmutable: nem lehet változtatni. List-re hasonlít, de ezt lehet keyként használni\n",
    "#egy dictben\n",
    "t=(5,6)\n",
    "print(t, type(t))\n",
    "#t[0]=1 nem ok!"
   ]
  },
  {
   "cell_type": "code",
   "execution_count": null,
   "metadata": {},
   "outputs": [],
   "source": []
  }
 ],
 "metadata": {
  "kernelspec": {
   "display_name": "Python 3",
   "language": "python",
   "name": "python3"
  },
  "language_info": {
   "codemirror_mode": {
    "name": "ipython",
    "version": 3
   },
   "file_extension": ".py",
   "mimetype": "text/x-python",
   "name": "python",
   "nbconvert_exporter": "python",
   "pygments_lexer": "ipython3",
   "version": "3.6.7"
  }
 },
 "nbformat": 4,
 "nbformat_minor": 2
}
