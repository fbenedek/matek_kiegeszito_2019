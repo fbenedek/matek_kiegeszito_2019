{
 "cells": [
  {
   "cell_type": "markdown",
   "metadata": {},
   "source": [
    "# Többváltozós analízis mérnöki alkalmazásai - 7. gyakorlat\n",
    "## Lineáris egyenletrendszerek, végeselem módszer\n",
    "\n",
    "Az óra elején használt VEM-es anyagokat ezen a [linken](https://drive.google.com/open?id=11QzHA1ODJIydrWlst7KUO-jkWL9gxBo1) találjátok meg. A Cramer-szabály szemléltetését ebben a [videóban](https://www.youtube.com/watch?v=jBsC34PxzoM&t=550s) nézhetitek meg megint.\n",
    "\n",
    "Láttuk, hogy LER-eket gyorsan megoldani nagyon fontos. Nézzük meg, hogy hogyan megy ez Pythonban, és alkalmazzuk a frissen megszerzett tudásunkat! A végeselem módszer alapjait ebben a kódban nem részletezem, a VEM-es anyagokban minden le van írva - jobban is, mint ahogy én tudom.\n"
   ]
  },
  {
   "cell_type": "code",
   "execution_count": 2,
   "metadata": {},
   "outputs": [
    {
     "name": "stdout",
     "output_type": "stream",
     "text": [
      "[[1 1 1]\n",
      " [1 2 4]\n",
      " [1 3 6]] -1.0\n",
      "[[ 1.]\n",
      " [ 4.]\n",
      " [-1.]]\n"
     ]
    }
   ],
   "source": [
    "#lineáris egyenletrendszer megoldása a numpy csomaggal\n",
    "import numpy as np\n",
    "#.linalg-al érhetitek el ezeket a funkciókat.\n",
    "A=np.array([[1,1,1],[1,2,4],[1,3,6]])\n",
    "print(A, np.linalg.det(A))\n",
    "b=np.array([[4],[5],[7]])\n",
    "#2x2es lineáris egyenletrendszer megoldása\n",
    "x=np.linalg.solve(A,b)\n",
    "print(x)\n",
    "#gyorsan csinálja, gaussozik."
   ]
  },
  {
   "cell_type": "markdown",
   "metadata": {},
   "source": [
    "Ilyen egyszerű LER-eket megoldanunk! Vizsgára gyakorláshoz jó lesz. Most alkalmazzuk végeselem-módszerrel egy szilárdságtani probléma megoldására. A feladatunk [ezek](https://drive.google.com/file/d/1R-F0pdHobnl-d0ASx1W-4cjRWVpXaMJs/view?usp=sharing) közül a példák közül az első lesz. \n",
    "\n",
    "![Bármit](https://i.imgur.com/9rbaqF2.jpg)\n",
    "\n",
    "## 1. lépés: elemek és csomópontok felvétele\n",
    "\n",
    "Vegyük fel a csomópontokat és az elemeket, majd tegyük bele az elemekhez tartó csomópontokat egy mátrixba. Még három információval bírunk az elemekről: tudjuk a hosszt, Young-modulust és a keresztmetszetet, tegyük ezeket is bele SI-ben: ebből kiszámolhatjuk az egyes rudak merevségét."
   ]
  },
  {
   "cell_type": "code",
   "execution_count": 1,
   "metadata": {
    "scrolled": true
   },
   "outputs": [
    {
     "name": "stdout",
     "output_type": "stream",
     "text": [
      "[[0 0 1]\n",
      " [1 1 2]\n",
      " [2 1 2]]\n",
      "[[1.e+00 1.e+11 6.e-05]\n",
      " [2.e+00 2.e+11 2.e-05]\n",
      " [3.e+00 5.e+10 3.e-05]]\n"
     ]
    }
   ],
   "source": [
    "import numpy as np\n",
    "elements_node = np.array([[0,0,1],[1,1,2],[2,1,2]])\n",
    "elements_data = np.array([[1,1.e+11, 6.e-05],[2,2.e+11,2.e-05],[3,5.e+10,3.e-05]])\n",
    "\n",
    "print(elements_node)\n",
    "print(elements_data)"
   ]
  },
  {
   "cell_type": "code",
   "execution_count": 2,
   "metadata": {},
   "outputs": [
    {
     "name": "stdout",
     "output_type": "stream",
     "text": [
      "[6000000. 2000000.  500000.]\n"
     ]
    }
   ],
   "source": [
    "#merevségek számítása\n",
    "elements_stiffness=(elements_data[:,1]*elements_data[:,2])/elements_data[:,0]\n",
    "print(elements_stiffness)"
   ]
  },
  {
   "cell_type": "markdown",
   "metadata": {},
   "source": [
    "## 2. lépés: elem merevségi mátrixok\n",
    "\n",
    "Ha megvan az elemek merevsége, kiszámíthatóm az elemek merevségi mátrixát, ami megmutatja, hogy csomópontjaik elmozdulásának hatására mekkora lesz a csomóponti terhelés."
   ]
  },
  {
   "cell_type": "code",
   "execution_count": 3,
   "metadata": {},
   "outputs": [
    {
     "name": "stdout",
     "output_type": "stream",
     "text": [
      "[[[ 6000000. -6000000.]\n",
      "  [-6000000.  6000000.]]\n",
      "\n",
      " [[ 2000000. -2000000.]\n",
      "  [-2000000.  2000000.]]\n",
      "\n",
      " [[  500000.  -500000.]\n",
      "  [ -500000.   500000.]]]\n"
     ]
    }
   ],
   "source": [
    "#merevségi mátrixok - az óra alapján:\n",
    "#elemmerevségi mátrixok \"gerince\"\n",
    "element_SMs=np.tile(np.array([[1,-1],[-1,1]]),(3,1,1))\n",
    "#type átalakítás\n",
    "element_SMs=element_SMs.astype('float64')\n",
    "#\"broadcasting\"-al összepakolhatom, de előtte reshape kell\n",
    "elements_stiffness=elements_stiffness.reshape(3,1,1)\n",
    "#broadcasting\n",
    "element_SMs*=elements_stiffness\n",
    "print(element_SMs)"
   ]
  },
  {
   "cell_type": "markdown",
   "metadata": {},
   "source": [
    "## 3. lépés: globális merevségi mátrix\n",
    "\n",
    "Az elemek merevségi mátrixaiból összeadjuk a globális merevségi mátrixot úgy, hogy minden elemhez a megfelelő szabadságfokhoz tartozó komponenseket adjuk. "
   ]
  },
  {
   "cell_type": "code",
   "execution_count": 4,
   "metadata": {},
   "outputs": [
    {
     "name": "stdout",
     "output_type": "stream",
     "text": [
      "[[ 6000000. -6000000.        0.]\n",
      " [-6000000.  8500000. -2500000.]\n",
      " [       0. -2500000.  2500000.]]\n"
     ]
    }
   ],
   "source": [
    "#mathematicában ez egy sor...\n",
    "global_stiffness=np.zeros((3,3))\n",
    "for element in elements_node:\n",
    "    #típuskonverzió az indexeléshez\n",
    "    #element=element.astype('uint64')\n",
    "    #rettenetes randaság\n",
    "    global_stiffness[element[1],element[1]]+=element_SMs[element[0],0,0]\n",
    "    global_stiffness[element[1],element[2]]+=element_SMs[element[0],0,1]\n",
    "    global_stiffness[element[2],element[1]]+=element_SMs[element[0],1,0]\n",
    "    global_stiffness[element[2],element[2]]+=element_SMs[element[0],1,1]\n",
    "    \n",
    "print(global_stiffness) #nézzünk azért rá!"
   ]
  },
  {
   "cell_type": "markdown",
   "metadata": {},
   "source": [
    "## 4. lépés: kondenzált mennyiségek meghatározása\n",
    "\n",
    "A numpy nem egy szimbolikus dolog, szóval most sokminden könnyebb papíron. Keressük meg először azokat a csomópontokat, amelyek elmozdulása ismert! Csak a \"2\"-es csomópont ilyen, ennek az elmozdulása nulla. Elvileg a többi csomópontban ismernünk kell a terhelést, de nézzük meg, hogy így van-e:\n",
    " - Látjuk, hogy a \"0\"-s csomópontot egy megadott $F_t$ terhelő erő nyomja.\n",
    " - Nincs sehova se odaírva, hogy mi hat az \"1\"-esen, de látjuk, hogy szabadon elmozdul, tehát ott a terhelés zérus.\n",
    " \n",
    "Valóban ismerjük a terhelést ott, ahol az elmozdulást nem tudjuk, és fordítva. A $K\\cdot U =F$ merevségi egyenlet kondenzálása annyit tesz, hogy elhagyjuk az egyenletből azokat a szabadságfokokat, amelyekhez ismert elmozdulások tartoznak (most a \"2\"-es ilyen), és megoldjuk a kapott lineáris egyenletrendszert.\n",
    "\n",
    "A kondenzált globális merevségi mátrix és terhelésvektor tehát:"
   ]
  },
  {
   "cell_type": "code",
   "execution_count": 5,
   "metadata": {},
   "outputs": [],
   "source": [
    "condensed_stiffness=global_stiffness[0:2, 0:2]\n",
    "condensed_load=np.array([[-1.5e+04],[0]])"
   ]
  },
  {
   "cell_type": "markdown",
   "metadata": {},
   "source": [
    "## 5. lépés: kondenzált merevségi egyenlet megoldása\n",
    "\n",
    "A bemutatott lineáris egyenleteket megoldó programmal megoldjuk a kapott egyenletet."
   ]
  },
  {
   "cell_type": "code",
   "execution_count": 6,
   "metadata": {},
   "outputs": [],
   "source": [
    "condensed_deformation=np.linalg.solve(condensed_stiffness,condensed_load)"
   ]
  },
  {
   "cell_type": "code",
   "execution_count": 7,
   "metadata": {},
   "outputs": [
    {
     "name": "stdout",
     "output_type": "stream",
     "text": [
      "[[-0.0085]\n",
      " [-0.006 ]]\n"
     ]
    }
   ],
   "source": [
    "print(condensed_deformation)"
   ]
  },
  {
   "cell_type": "code",
   "execution_count": 8,
   "metadata": {},
   "outputs": [
    {
     "name": "stdout",
     "output_type": "stream",
     "text": [
      "[[-1.50000000e+04]\n",
      " [ 7.27595761e-12]]\n"
     ]
    }
   ],
   "source": [
    "print(np.dot(condensed_stiffness,condensed_deformation)) #ellenőrizhetnek az ijedősebbek"
   ]
  },
  {
   "cell_type": "markdown",
   "metadata": {},
   "source": [
    "## 6. lépés: feladat szempontjából érdekes mennyiségek összegyűjtése\n",
    "\n",
    "A feszültségek (azaz az csomópontokat terhelő erők) érdekesek, valamint a középső rúd elmozdulása. Az utóbbit már megkaptuk, az előbbiekhez kell még sportolni kicsit: az ismert elmozdulásokból elemenként megkapható az elem terhelésvektora, ebből pedig a feszültsége. Ellenőrzésképp összeállítjuk a globális deformációvektort, és megkapjuk a globális terhelést a merevségi egyenletből - elvileg az elemek terheléseinek összege ezt adja."
   ]
  },
  {
   "cell_type": "code",
   "execution_count": 9,
   "metadata": {},
   "outputs": [
    {
     "name": "stdout",
     "output_type": "stream",
     "text": [
      "[[-0.0085]\n",
      " [-0.006 ]\n",
      " [ 0.    ]]\n"
     ]
    }
   ],
   "source": [
    "global_deformation=np.zeros((3,1))\n",
    "global_deformation[:-1,:]+=condensed_deformation\n",
    "print(global_deformation)"
   ]
  },
  {
   "cell_type": "code",
   "execution_count": 10,
   "metadata": {},
   "outputs": [
    {
     "name": "stdout",
     "output_type": "stream",
     "text": [
      "[array([-2.5e+08]), array([-6.e+08]), array([-1.e+08])]\n"
     ]
    }
   ],
   "source": [
    "load_elements=[]\n",
    "stress_elements=[]\n",
    "for element in elements_node:\n",
    "    #típuskonverzió az indexeléshez\n",
    "    #element=element.astype('uint64')\n",
    "    #legszebb sor\n",
    "    element_deformation=np.zeros((2,1))\n",
    "    element_deformation[0,0]+=global_deformation[element[1]]\n",
    "    element_deformation[1,0]+=global_deformation[element[2]]\n",
    "    element_load=np.dot(element_SMs[element[0]],element_deformation)\n",
    "    load_elements.append(element_load)\n",
    "\n",
    "for i in range(len(elements_node)):\n",
    "    element_stress=load_elements[i][0]/elements_data[i,2] ##[][] vagy [,]??\n",
    "    stress_elements.append(element_stress)\n",
    "    \n",
    "print(stress_elements)"
   ]
  },
  {
   "cell_type": "code",
   "execution_count": 11,
   "metadata": {},
   "outputs": [
    {
     "name": "stdout",
     "output_type": "stream",
     "text": [
      "[[-1.50000000e+04]\n",
      " [ 7.27595761e-12]\n",
      " [ 1.50000000e+04]]\n"
     ]
    }
   ],
   "source": [
    "global_load=np.dot(global_stiffness, global_deformation)\n",
    "print(global_load)\n",
    "\n",
    "##Valóban 0 jön ki. "
   ]
  },
  {
   "cell_type": "markdown",
   "metadata": {},
   "source": [
    "## Szorgalmi feladat 10 pontért\n",
    "\n",
    "Aki az óra anyaga alapján, a feltöltött segédanyagok segítségével elkészíti a másik példát is, és feltölti a [formra](https://forms.gle/MDCssp98TXSsSYkL6), 10 pont üti a markát."
   ]
  },
  {
   "cell_type": "code",
   "execution_count": null,
   "metadata": {},
   "outputs": [],
   "source": []
  }
 ],
 "metadata": {
  "kernelspec": {
   "display_name": "Python 3",
   "language": "python",
   "name": "python3"
  },
  "language_info": {
   "codemirror_mode": {
    "name": "ipython",
    "version": 3
   },
   "file_extension": ".py",
   "mimetype": "text/x-python",
   "name": "python",
   "nbconvert_exporter": "python",
   "pygments_lexer": "ipython3",
   "version": "3.6.7"
  }
 },
 "nbformat": 4,
 "nbformat_minor": 2
}
