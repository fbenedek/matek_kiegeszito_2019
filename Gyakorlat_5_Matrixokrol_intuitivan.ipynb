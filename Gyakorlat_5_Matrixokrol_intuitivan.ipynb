{
 "cells": [
  {
   "cell_type": "markdown",
   "metadata": {},
   "source": [
    "# Többváltozós analízis mérnöki alkalmazásai - 5. gyakorlat"
   ]
  },
  {
   "cell_type": "markdown",
   "metadata": {},
   "source": [
    "A mai gyakorlat kicsit rendhagyó lesz - egy időre félretesszük a laptopokat, és egy kis gondolkozással kezdünk. A mai célunk az, hogy oldjuk kicsit azt a nagyon mechanikus megközelítést, ahogy a Matek G2 gyakorlatokon közelítettetek a mátrixokhoz: szeretnénk, ha ez után az óra után kicsit máshogy, intuitívabban is meg tudnátok közelíteni azt a sok számolást, amit csináltatnak/csináltatunk veletek."
   ]
  },
  {
   "cell_type": "markdown",
   "metadata": {},
   "source": [
    "## Tisztáznivaló alapfogalom\n",
    "\n",
    "- Lineáris transzformáció/leképezés: Legyen két azonos test feletti vektorterem, ha $\\varphi : V_1\\rightarrow V_2$ teljesíti az alábbi tulajdonságokat, ő egy lineáris trafó:\n",
    "    - $\\varphi (\\overline{a}+\\overline{b})=\\varphi(\\overline{a})+\\varphi(\\overline{b})$ \"összegtartó\"\n",
    "    - $\\varphi(\\alpha\\overline{a})=\\alpha\\varphi(\\overline{a})$ \"skalárszoros-tartó\""
   ]
  },
  {
   "cell_type": "markdown",
   "metadata": {},
   "source": [
    "## Lineáris transzformációk a síkon\n",
    "\n",
    "Nézzük azokat a leképezéseket, amelyek a 2D-s síkot alakítják át! Ezek olyan leképezések, amik fogják az összes origó középpontú helyvektort, és átalakítják őket valamilyen másik  vektorcsoporttá (erre gondol a Tanárnő, ha azt mondja, hogy \"sündisznó\").\n",
    "\n",
    "Könnyebb úgy figyelni, hogy mi történik a sík pontjaival, ha helyvetorok helyett csak egy választott négyzetrács változásait követjük, például így:\n",
    "\n",
    "![negyzetracs](https://j.gifs.com/K1ZZ3J.gif)"
   ]
  },
  {
   "cell_type": "markdown",
   "metadata": {},
   "source": [
    "Egészen vad leképezéseket is kreálhatunk, egy nagyon speciális csoportot azonban külön kezeltetek - a lineáris transzformációkat. Ezeket a fenti definícióval írtátok le. De mit jelent ez helyvektorok szintjén?\n",
    "\n",
    "![nemlinearis](https://j.gifs.com/YWvvOW.gif)"
   ]
  },
  {
   "cell_type": "markdown",
   "metadata": {},
   "source": [
    "Nézzük meg, hogy mit csinál a nullvektorral egy ilyen leképezés! Vegyük elő az első tulajdonságot ($\\varphi (\\overline{a}+\\overline{b})=\\varphi(\\overline{a})+\\varphi(\\overline{b})$) és látszik, hogy a nullvektor képe csak nullvektor lehet. Ez kizárja pl. az eltolást."
   ]
  },
  {
   "cell_type": "markdown",
   "metadata": {},
   "source": [
    "Mit csinál egy egyenessel? Higyjétek el, hogy az egyenesek egyenesek maradnak, de ezt most nem bizonyítjuk."
   ]
  },
  {
   "cell_type": "markdown",
   "metadata": {},
   "source": [
    "Ez grafikusan azt jelenti, hogy ha egy síkra négyzetrácsot rajzolunk, és alkalmazunk a síkra egy lineáris transzformációt, akkor az origó a helyén marad, négyzetrács vonalai pedig  párhuzamosak, és \"egyenletesen elosztottak\" maradnak. (A második tulajdonság azért igaz, mert különben olyan egyenesek \"ferdülnének el\" amiket nem látunk a négyzetrácsban)\n",
    "\n",
    "![nemline_egyenes](https://j.gifs.com/k8ZZpK.gif)"
   ]
  },
  {
   "cell_type": "markdown",
   "metadata": {},
   "source": [
    "Ha ilyen jól értjük a dolgot, határozzuk meg, hogy melyik lineáris trafó az alábbiak közül (az $x,y$ koordináták által jellemzett síkon)!\n",
    " - Forgatás az $(1,1)$ pont körül. (Nem az: origó elmászik)\n",
    " - Középpontos tükrözés az origóra (Lineáris)\n",
    " - Tükrözés az $x=y$ egyenesre (Lineáris)\n",
    " - Tükrözés egy $(0,1)$ ponton áthaladó, vízszintes egyenesre (Origó mozdul, nem lineáris)\n",
    " - Az $y$ koordináták négyzetre emelése (egyenesek elferdülnek, nem lineáris)\n",
    " - Nyújtás $x$ irányban $3$-szorosára, $y$ irányban $2$-szeresére (Lin)\n",
    " - Identitás (Lin)"
   ]
  },
  {
   "cell_type": "markdown",
   "metadata": {},
   "source": [
    "Ezeket elmondva mind el tudjuk képzelni - de mi lenne, ha mondjuk le kéne programoznunk egy animációt, mint a gifek amiket mutattam? Ehhez szükségünk van a transzformációk numerikus leírására.\n",
    "\n",
    "Figyeljük meg, hogy mit művelnek a lineáris transzformációk a bázisvektorainkkal! Mindenki papíron: vegyétek $\\overline{v}=a\\overline{i}+b\\overline{j}$ vektort, és $\\varphi$ lineáris trafót! Fejezzétek ki $\\varphi(\\overline{v})$-t $\\varphi(\\overline{i})$-ből és $\\varphi(\\overline{j})$-ből!\n",
    "\n",
    "Lineáris trafó összeg- és skalárszoros tartó tulajdonsága miatt: $$\\varphi(\\overline{v})=a\\varphi(\\overline{i})+b\\varphi(\\overline{j})$$\n",
    "\n",
    "Ez az jelenti, hogy ahhoz, hogy minden vektor lineáris transzformációját meghatározzuk a síkon, elegendő megnézni, hogy mit csinál a trafó a két bázisvektorral, utána már bármelyik vektor képét megadják a kép-bazisvektorok és az eredeti koordináták. Ezt úgy is mondhatjuk, hogy a trafó \"lineáris kombináció - tartó\"."
   ]
  },
  {
   "cell_type": "markdown",
   "metadata": {},
   "source": [
    "Álljunk meg egy pillanatra, és gondolkozzunk el! Legyenek $\\varphi(\\overline{i})$ koordinátái az eredeti bázisban $(a,b)$, $\\varphi(\\overline{j})$ koordinátái pedig $(c,d)$. Az előbb azt mondtuk, hogy ha ezeket ismerjük, akkor meg tudjuk határozni minden vektor képét - ehhez tehát elég $4$ szám. Mit csinálunk, ha adnak nekünk egy $(x,y)$ vektort, és meg kell határoznunk a képét? (Írja mindenki!)\n",
    "\n",
    "Megszorozzuk $(a,b)$ oszlopvektort $x$ skalárral, $(c,d)$-t pedig $y$-al, majd az eredményeket összeadjuk $\\longrightarrow$ ez épp a mátrixszorzás!\n",
    "\n",
    "Tehát minden 2D-s lineáris trafó leírható $4$ számmal, ezt a $4$ számot pedig úgy könnyű kezelni, hogy egy mátrixba rendezzük őket, és innentől bármely vektor képét megkapom ezzel a mátrixszal történő balról szorzással az eredeti vektorból. Magasabb dimenzóban ugyanúgy működik: $n$ dimenzióban $n$ darab bázisvektorom lesz, ezek képeit sorba rakom egy $n x n$ es mátrixba, és ezzel a mátrixszal balról szorozva bármely $n$ dimenziós vektor képét megkapom.\n",
    "\n",
    "Lássuk, hogy értitek-e! Most mindenki megpróbálja leírni az alábbi trafók mátrixszait, de úgy, hogy a bázisvektorokban gondolkodik!\n",
    "\n",
    "- Forgatás $40^{\\circ}$-al az óramutató járásával megegyezően\n",
    "- Tükrözés az $y=-x$ egyenesre\n",
    "- Középpontos tükrözés a $(-1,1)$ pontra\n",
    "- Minden vektor összenyomása egy vele azonos irányú, tizedakkora vektorrá, majd középpontos tükrözés az origóra.\n",
    "\n",
    "Még egy fontos dolog: a kapcsolat a mátrixok és a lineáris transzformációk között bijektív.\n",
    "\n",
    "![kep](https://j.gifs.com/YWvv1W.gif)\n",
    "Innentől azt szeretném, ha minden egyes alkalommal, ha mátrixszot láttok, ne egy halom számként tekintsetek rá, hanem lássátok a mozgást a síkban/térben, amit jelent. Gyakoroljuk ezt a következő mátrixok vizualizálásával:\n",
    "\n",
    "$$\\begin{bmatrix} 0&2 \\\\ 3&0\\end{bmatrix}$$\n",
    "\n",
    "$$\\begin{bmatrix} -1&0 \\\\ 0&1\\end{bmatrix}$$\n",
    "\n",
    "$$\\begin{bmatrix} 2&1 \\\\ -4&-2\\end{bmatrix}$$\n",
    "\n",
    "$$\\begin{bmatrix} 1&0 \\\\ 1&1\\end{bmatrix}$$\n",
    "\n",
    "$$\\begin{bmatrix} 1&0&0 \\\\ 0&-1&0 \\\\ 0&0&-1\\end{bmatrix}$$\n",
    "\n",
    "$$\\begin{bmatrix} -1&0&0 \\\\ 0&-1&0 \\\\ 0&0&-1\\end{bmatrix}$$\n",
    "\n",
    "$$\\begin{bmatrix} \\cos(\\alpha)&0&\\sin(\\alpha) \\\\ 0&1&0 \\\\ -\\sin(\\alpha)&0&\\cos(\\alpha)\\end{bmatrix}$$"
   ]
  },
  {
   "cell_type": "markdown",
   "metadata": {},
   "source": [
    "## Determináns\n",
    "\n",
    "Az előbbiekben a lineáris transzformációkhoz kerültünk kicsit közelebb. Tegyük fel, hogy vizsgálni szeretnénk a transzformációinkat, mérőszámokat szeretnénk rájuk bevezetni: például szeretnénk megnézni, hogy mi történik a trafó után a területekkel, hiszen pár transzformáció láthatóan nyújta, pár pedig láthatóan összepasszírozza a 2D-s teret.\n",
    "\n",
    "![det](https://j.gifs.com/yorr4W.gif)\n",
    "\n",
    "Ebben az esetben is elég a bázisvektorokat figyelni. A bázisvektorok transzformáltjához hasonlóan fog minden kicsi négyzet változni, és kicsi négyzetekből pedig bármilyen alakzatot fel lehet építeni.\n",
    "\n",
    "![det1](https://j.gifs.com/zvKKjr.gif)\n",
    "\n",
    "Először gondolkozzunk el pár konkrét példán! Mit csinál a síkkal az alábbi két mátrix, és mennyire nyújtják meg a sík alakzatait?\n",
    "\n",
    "$$\\begin{bmatrix} 2&0 \\\\ 0&4\\end{bmatrix}$$\n",
    "\n",
    "$$\\begin{bmatrix} 1&0 \\\\ 1&1\\end{bmatrix}$$\n",
    "\n",
    "$$\\begin{bmatrix} 1&-2 \\\\ 3&-6\\end{bmatrix}$$\n",
    "\n",
    "Jó az ötlet - ez a determináns! De vannak negatív determinánsok is, azok hogyan készülnek? Mondjátok el, hogy grafikusan mi a különbség a két mátrix által reprezentált trafókban:\n",
    "\n",
    "$$\\begin{bmatrix} 1&0 \\\\ 1&1\\end{bmatrix}$$\n",
    "\n",
    "$$\\begin{bmatrix} 1&1 \\\\ 1&0\\end{bmatrix}$$\n",
    "\n",
    "A körüljárási irányok változnak! Azoknak a transzformációknak, ahol a bázisvektorok viszonya változik, negatív determinánsa van.\n",
    "\n",
    "![det_flip](https://j.gifs.com/3Q22Nn.gif)\n"
   ]
  },
  {
   "cell_type": "markdown",
   "metadata": {},
   "source": [
    "## Kompozíció\n",
    "\n",
    "Előfordulhat, hogy egyszerre több lieáris transzformációt szeretnénk elvégezni. Természetesen a teljes folyamathoz létezik egy megfelelő dimenziójú mátrix, ami leírja, de ez elsőre nem triviális. Hogy határozzuk meg ezt a speciális mátrixot?\n",
    "\n",
    "Azt mondtuk, hogy minden lineáris leképezést meghatároz az, hogy a bázisvektorokat hová viszi. Kövessük végig a tanult módszerrel, hogy hova megy 2D-ben a két bázisvektor akkor, ha először az $A$, utána a $B$ mátrixot alkalmazzuk rajtuk:\n",
    "\n",
    "$$A=\\begin{bmatrix} -1&2 \\\\ 1&1\\end{bmatrix}$$\n",
    "\n",
    "Egyből látszik, hogy $(-1,2)$ és $(1,1)$.\n",
    "\n",
    "$$B=\\begin{bmatrix} 2&-1 \\\\ 3&4\\end{bmatrix}$$\n",
    "\n",
    "Táblán: ezt csinálja az egyik vektorral, és ezt a másikkal...\n",
    "\n",
    "Ha a két vektort összeteszem, megvan a mátrix, amit kerestem!  "
   ]
  },
  {
   "cell_type": "markdown",
   "metadata": {},
   "source": [
    "Ha megtanultok így gondolkodni:\n",
    "\n",
    "- Mátrixok = Leképezések\n",
    "- Determináns = Terület\n",
    "- Mátrixszorzás = Kompozíció\n",
    "\n",
    "Sokkal könnyebben jön majd sok dolog, és sokkal magától értetődőbb lesz például:\n",
    "- A mátrixszorzás nemkommutativitása - példa: nyírás+forgatás\n",
    "- A determinánsok szorzástétele: ha két transzformációt egymás után végzünk el, ugyanakkora a terület változása, mintha az eredő trafót csinálnánk.\n",
    "\n",
    "És még sok más..."
   ]
  },
  {
   "cell_type": "markdown",
   "metadata": {},
   "source": [
    "## A mai óra nem jöhetett volna létre a 3blue1brown zseniális matekos csatorna nélkül. Aki még nem tette, nézze meg a [linalg sorzatot](https://www.youtube.com/watch?v=fNk_zzaMoSs&list=PLZHQObOWTQDPD3MizzM2xVFitgF8hE_ab)!"
   ]
  },
  {
   "cell_type": "code",
   "execution_count": null,
   "metadata": {},
   "outputs": [],
   "source": []
  }
 ],
 "metadata": {
  "kernelspec": {
   "display_name": "Python 3",
   "language": "python",
   "name": "python3"
  },
  "language_info": {
   "codemirror_mode": {
    "name": "ipython",
    "version": 3
   },
   "file_extension": ".py",
   "mimetype": "text/x-python",
   "name": "python",
   "nbconvert_exporter": "python",
   "pygments_lexer": "ipython3",
   "version": "3.6.7"
  }
 },
 "nbformat": 4,
 "nbformat_minor": 2
}
