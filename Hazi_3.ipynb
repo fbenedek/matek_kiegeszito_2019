{
 "cells": [
  {
   "cell_type": "markdown",
   "metadata": {},
   "source": [
    "# Többváltozós analízis alkalmazásai - 3. házi feladat\n",
    "\n",
    "## Adminisztratív tudnivalók\n",
    "- A házi feladat beadásának határideje május 17. 23:59:59.999.\n",
    "- Megoldásotokat [erre a linre](youtube.com) töltsétek fel python notebook-ként (colabos/ipnb is jó), úgy, hogy minden cella le legyen futtatva, és látsszon az eredmény.\n",
    "- A szöveges kérdésekre külön markdown cellákban, világosan fogalmazva válaszoljatok, a kódotok pedig legyen tiszta és jól kommentelt. \n",
    "- Üresen hagyott/le nem futó feladattal nem fogadunk el házit (le nem futónak számít az is, ha a kimenet nincs megjelenítve)."
   ]
  },
  {
   "cell_type": "markdown",
   "metadata": {},
   "source": [
    "# 1. feladat - Gráfok alkalmazása\n",
    "\n",
    "A gráfok alkalmazása az adatelemzásben nagyon nagy trend - a magyar kutatók pedig az élen vannak a témában, mindenkinek ajánljuk Barabási Albert László könyveit, ha művelődne (pl.: Hálózatok Tudománya - ebben tankönyvszerűen megvan minden matek ami kellhet). Ezt az érdekes területet egy weboldal elemzésén át fogjátok megismerni ebben a feladatban.\n",
    "\n",
    "- a) Válassz egy tetszőleges híroldalt - 888, Pestisrácok, Vadhajtások...\n",
    "- b) Kezdd a nyitóoldal beolvasásával, majd az azon található linkek segítségével járd be az oldalt, és mentsd el a linkenk által mutatott lapokat a gráf csúcsaiként. Legalább 4-5 lépésben haladj tovább ezekről is, és hasonló módon mentsd el az összes szereplő link címét.\n",
    "- c) Keress két, témájában nagyon eltérő hírt (pl.: \"Bayer Zsolt húsvéti levelével igazította el Szargentini lepényarcát\" és \"Megdőlt a liberális legenda: hatalmas hazugság a magyarok elvándorlása Angliába\"), és nézd meg, hogy mennyi lépés eljutni egyikből a másikba! Fejtsd ki szóban is a használt algoritmust, írd le, hogy hogyan és miért működik.\n",
    "- d) Listázd ki a 10 leggyakoribb híroldalt - ne a főoldal/valami más állandó link legyen!\n",
    "- e) Találj ki egy érdekes vizsgálatot a gráfon, és végezd el - pl.: legnagyobb hurok, legtöbb úton összekötött két csúcs...)\n",
    "\n",
    "A feladat nem hosszú, de egy kis guglizás szükséges hozzá - ettől ne ijedjetek meg, sok kidolgozott példa van ilyesmire, ilyenek után kutassatok!"
   ]
  },
  {
   "cell_type": "markdown",
   "metadata": {},
   "source": [
    "## 2. feladat - Fourier-sorok és a Fourier transzformáció\n",
    "\n",
    "A villamos/mechatronikai mérnöki gyakorlatban villamos jeleket, gépek és robotok rezgéseit, hangot és még sok mást bontunk szinuszos és koszinuszos összetevőkre. Az alábbi feladatokban kicsit elmélyítjük a Fourier-analízisre és a frekvenciatartományra vontakozó ismereteiteket, gyakoroljuk a grafikát és a LaTeX matematikai moduljának használatát.\n",
    "\n",
    "- a) Fogalmazd meg, hogy mit jelent egy függvény Fourier-sora! Milyen függvényeknek van Fourier-soruk? Mutasd be egy-egy számításon át, hogy a Fourier sorfejtések bázisa ortonormált! A feladat megoldásához használd a notebook markdown részébe beépített LaTeX engine-t.\n",
    "- b) Fogalmazd meg, hogy mi a különbség a Fourier-sorfejtés és a Fourier transzformáció között! \n",
    "- c) Nézd meg figyelmesen [ezt](https://www.youtube.com/watch?v=spUNpyF58BY&t=0s) a videót! \n",
    "- d) Lineáris-e a Fourier-transzformáció? Hol derül ki ez a videóban (timestamp)?\n",
    "- e) Készíts el három, a videó bal alsó sarkában szereplőhöz hasonló animációt úgy, hogy a \"frekvencia-szétszedő gép\" az $f(x)=\\sin(3x)$, $g(x)=\\sin(5x)$ és a $\\sin(3x)+\\sin(5x)$ függvényeket vizsgálja! Mit tapasztalsz, mikor \"állnak össze\" az egyes animációk? \n",
    "- f) Töltsd le és konvertáld wav formátumba [ezt](https://www.youtube.com/watch?v=F7bKe_Zgk4o) a videót!\n",
    "- g) A scipy könyvtár segítségével rajzold ki az amplitúdómenetet és a spektogramot. Írd le, hogy hogyan tükrözi zene három választott tulajdonságát a két plot! (pl.: 0:24-nél bejön egy dob szólam, ez az amplitúdódiagramon így, a spektogramon úgy látszik, ez egy a három közül)\n",
    "- h) A kirajzolt diagramok segítségével határozd meg, hogy percenként hányat üt a 0:24-nél induló \"lábdobszerű\" hang!"
   ]
  }
 ],
 "metadata": {
  "kernelspec": {
   "display_name": "Python 3",
   "language": "python",
   "name": "python3"
  },
  "language_info": {
   "codemirror_mode": {
    "name": "ipython",
    "version": 3
   },
   "file_extension": ".py",
   "mimetype": "text/x-python",
   "name": "python",
   "nbconvert_exporter": "python",
   "pygments_lexer": "ipython3",
   "version": "3.7.1"
  },
  "varInspector": {
   "cols": {
    "lenName": 16,
    "lenType": 16,
    "lenVar": 40
   },
   "kernels_config": {
    "python": {
     "delete_cmd_postfix": "",
     "delete_cmd_prefix": "del ",
     "library": "var_list.py",
     "varRefreshCmd": "print(var_dic_list())"
    },
    "r": {
     "delete_cmd_postfix": ") ",
     "delete_cmd_prefix": "rm(",
     "library": "var_list.r",
     "varRefreshCmd": "cat(var_dic_list()) "
    }
   },
   "types_to_exclude": [
    "module",
    "function",
    "builtin_function_or_method",
    "instance",
    "_Feature"
   ],
   "window_display": false
  }
 },
 "nbformat": 4,
 "nbformat_minor": 2
}
