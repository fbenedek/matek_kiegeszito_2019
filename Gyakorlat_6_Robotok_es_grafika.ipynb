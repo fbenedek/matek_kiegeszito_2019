{
 "cells": [
  {
   "cell_type": "markdown",
   "metadata": {},
   "source": [
    "# Többváltozós analízis mérnöki alkalmazásai, 6. gyakorlat: Robotok és grafika"
   ]
  },
  {
   "cell_type": "code",
   "execution_count": 1,
   "metadata": {},
   "outputs": [],
   "source": [
    "from graphics import * #mindent behúzok grafikából, nem kell utána gr.-to írni"
   ]
  },
  {
   "cell_type": "code",
   "execution_count": 2,
   "metadata": {},
   "outputs": [],
   "source": [
    "win =GraphWin(\"Első ablakunk\", 600, 400)\n",
    "win.getMouse()\n",
    "win.close()\n",
    "# így lehet ablakot csinálni, ha pontosan tudjuk, meddig kell ->animációhoz pl nem jó"
   ]
  },
  {
   "cell_type": "code",
   "execution_count": 3,
   "metadata": {},
   "outputs": [],
   "source": [
    "win =GraphWin(\"Alakzatok\", 600, 400)\n",
    "win.setBackground(\"black\")\n",
    "\n",
    "pont=Point(200,200)#pont objektum: x,y koordináták megadásával\n",
    "pont.setFill(color_rgb(69,14,88)) #színt így is állíthatjuk\n",
    "\n",
    "pont.draw(win)\n",
    "\n",
    "kor=Circle(pont,3)\n",
    "kor.setFill(\"white\") #outline és fill között\n",
    "kor.draw(win)\n",
    "\n",
    "kor2=Circle(pont,100)\n",
    "kor2.setOutline(\"white\") #előtte: mit rontottam el? (alapméretezett: fekete)\n",
    "kor2.draw(win)\n",
    "\n",
    "egyenes=Line(pont, Point(300,200))#így belül is lehet, néha így kényelmesebb\n",
    "egyenes.setOutline(\"white\")\n",
    "egyenes.draw(win)\n",
    "\n",
    "win.getMouse()\n",
    "win.close()"
   ]
  },
  {
   "cell_type": "markdown",
   "metadata": {},
   "source": [
    "## 1.feladat: Legyen 3D!\n",
    "\n",
    "Nem csak 2 dimenzidós dolgokat szeretünk megjelíteni - érdemes kipróbálni 3D-ben is! Írjunk egy függvényt, ami 3D-s vektorokból Cavalier axonometria használatával 2D-s Point objektumokat ad vissza, majd egy (600,400)-as fekete canvason megjeleníti az egységvektorokat! (Segítség: eltolást opcionálisan tegyetek bele, mert később nagyon kellhet!)"
   ]
  },
  {
   "cell_type": "markdown",
   "metadata": {},
   "source": [
    "## Készítsünk animációt! (először 2D)"
   ]
  },
  {
   "cell_type": "code",
   "execution_count": 8,
   "metadata": {},
   "outputs": [],
   "source": [
    "from graphics import *\n",
    "import numpy as np\n",
    "\n",
    "\n",
    " \n",
    "win =GraphWin(\"Fourier\", 400, 400, autoflush=False)#animáció készítésénél: ld. Zelle pdf-je!\n",
    "win.setBackground(\"black\")\n",
    "\n",
    "t=0 #legyen egy változónk az időhöz: a cos, sin függvényebe ezt fgojuk beletenni\n",
    "radius = 100; #kör sugara\n",
    "center=Point(200,200) #ez legyen a kp\n",
    "\n",
    "\n",
    "while win.checkMouse()==None: #azért nem az egyszerűbb megoldást használjuk,mert nem tudjuk, meddig néznénk a kört\n",
    "    if(t>np.pi*2):\n",
    "        t=0\n",
    "    \n",
    "    win.delete(\"all\")#letöröljük az előző képkockát\n",
    "    x=center.x#kör megrajzolása\n",
    "    y=center.y\n",
    "    \n",
    "    point_1=Point(x,y)\n",
    "    circ = Circle(point_1,radius)\n",
    "    circ.setOutline(\"white\")\n",
    "    circ.draw(win)\n",
    "    \n",
    "    x+=radius*np.cos(t)#forgó pont koordinátái\n",
    "    y+=radius*-np.sin(t)\n",
    "    \n",
    "    \n",
    "        \n",
    "    point_2=Point(x,y)#ez lesz a forgó pont\n",
    "        \n",
    "    radius_show= Line(point_1, point_2)#sugár megrajzolása\n",
    "    radius_show.setFill(\"white\")\n",
    "    radius_show.draw(win)\n",
    "            \n",
    "    t+=0.02\n",
    "    update(20) #magyarázat a pdf-ben.\n",
    "     \n",
    "win.close() ##ezt külön feltöltöm, el kell játszani vele. Növeljék a forgási sebességet, a sugarat, tegyék át másik pontba..."
   ]
  },
  {
   "cell_type": "markdown",
   "metadata": {},
   "source": [
    "## Forgassunk 3D-ben!\n",
    "\n",
    "Az előbb megírt függvényeteket használva forgassatok meg egy z irányú pálcát a z tengely körül (vmilyen sugárral, hogy láttszon is)."
   ]
  },
  {
   "cell_type": "code",
   "execution_count": 11,
   "metadata": {},
   "outputs": [],
   "source": [
    "def DH_d_matrix(d):\n",
    "    d_matrix=np.eye(4)+np.array([[0,0,0,0],[0,0,0,0],[0,0,0,d],[0,0,0,0]])\n",
    "    return d_matrix\n",
    "\n",
    "def DH_theta_matrix(theta):\n",
    "    #deg_rad átváltás\n",
    "    theta_rad=theta/360*2*np.pi\n",
    "    theta_matrix=np.array([[np.cos(theta_rad), -np.sin(theta_rad),0,0],[np.sin(theta_rad), np.cos(theta_rad),0,0],[0,0,1,0],[0,0,0,1]])\n",
    "    return theta_matrix\n",
    "\n",
    "def DH_a_matrix(a):\n",
    "    a_matrix=np.eye(4)+np.array([[0,0,0,a],[0,0,0,0],[0,0,0,0],[0,0,0,0]])\n",
    "    return a_matrix\n",
    "\n",
    "def DH_alfa_matrix(alfa):\n",
    "    #deg_rad átváltás\n",
    "    alfa_rad=alfa/360*2*np.pi\n",
    "    alfa_matrix=np.array([[1,0,0,0],[0,np.cos(alfa_rad), -np.sin(alfa_rad),0],[0,np.sin(alfa_rad), np.cos(alfa_rad),0],[0,0,0,1]])\n",
    "    return alfa_matrix\n",
    "\n",
    "def DH_matrix(d,theta,a, alfa):\n",
    "    d_matrix=DH_d_matrix(d)\n",
    "    theta_matrix=DH_theta_matrix(theta)\n",
    "    a_matrix=DH_a_matrix(a)\n",
    "    alfa_matrix=DH_alfa_matrix(alfa)\n",
    "    \n",
    "    DH_matrix=np.matmul(theta_matrix, d_matrix)\n",
    "    DH_matrix=np.matmul(DH_matrix, a_matrix)\n",
    "    DH_matrix=np.matmul(DH_matrix, alfa_matrix)\n",
    "    \n",
    "    return DH_matrix\n",
    "\n",
    "def DH_alt_matrix(d, theta,a,alfa):\n",
    "    alfa=alfa/360*2*np.pi\n",
    "    theta=theta/360*2*np.pi\n",
    "    dh_matrix=np.array([[np.cos(theta), -np.sin(theta)*np.cos(alfa), np.sin(theta)*np.sin(alfa), a*np.cos(theta)],\n",
    "                        [np.sin(theta),np.cos(theta)*np.cos(alfa), -np.cos(theta)*np.sin(alfa), a*np.sin(theta)],\n",
    "                       [0, np.sin(alfa), np.cos(alfa), d],\n",
    "                       [0,0,0,1]])\n",
    "    return dh_matrix"
   ]
  }
 ],
 "metadata": {
  "kernelspec": {
   "display_name": "Python 3",
   "language": "python",
   "name": "python3"
  },
  "language_info": {
   "codemirror_mode": {
    "name": "ipython",
    "version": 3
   },
   "file_extension": ".py",
   "mimetype": "text/x-python",
   "name": "python",
   "nbconvert_exporter": "python",
   "pygments_lexer": "ipython3",
   "version": "3.6.7"
  }
 },
 "nbformat": 4,
 "nbformat_minor": 2
}
