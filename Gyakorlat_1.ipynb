{
 "cells": [
  {
   "cell_type": "markdown",
   "metadata": {},
   "source": [
    "## Python alapok és Matematika G1 ismétlés\n",
    "\n",
    "Az előző félévben megismerkedtetek a C nyelv alapjaival és az egyváltozós analízissel. Ismételjük át a programozásról és a matematikáról tanultakat, és ismerkedjünk meg a Python 3-mal!"
   ]
  },
  {
   "cell_type": "code",
   "execution_count": 1,
   "metadata": {},
   "outputs": [
    {
     "name": "stdout",
     "output_type": "stream",
     "text": [
      "Szervusz, világ!\n"
     ]
    }
   ],
   "source": [
    "#Első feladatként írjuk meg a hagyományos \"Szervusz, világ!\" (ikszdé) karaktersort kiírató kódot Python 3 nyelven!\n",
    "valtozom=\"Szervusz, világ!\"\n",
    "print(valtozom)"
   ]
  },
  {
   "cell_type": "code",
   "execution_count": 2,
   "metadata": {},
   "outputs": [],
   "source": [
    "#Működött? Szedjük össze a különbségeket a tavaly tanult C nyelv és a Python általunk ismert eddigi két sora között:\n",
    "#>Dinamikus típusok: létrehozhattam a \"valtozom\"-at anelkul, hogy szóltam volna arról, hogy\n",
    "# milyen típusú (int, string stb.)\n",
    "#print\n"
   ]
  },
  {
   "cell_type": "code",
   "execution_count": null,
   "metadata": {},
   "outputs": [],
   "source": []
  }
 ],
 "metadata": {
  "kernelspec": {
   "display_name": "Python 3",
   "language": "python",
   "name": "python3"
  },
  "language_info": {
   "codemirror_mode": {
    "name": "ipython",
    "version": 3
   },
   "file_extension": ".py",
   "mimetype": "text/x-python",
   "name": "python",
   "nbconvert_exporter": "python",
   "pygments_lexer": "ipython3",
   "version": "3.6.6"
  }
 },
 "nbformat": 4,
 "nbformat_minor": 2
}
