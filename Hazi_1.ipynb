{
  "nbformat": 4,
  "nbformat_minor": 0,
  "metadata": {
    "colab": {
      "name": "Hazi_1.ipynb",
      "version": "0.3.2",
      "provenance": []
    },
    "kernelspec": {
      "display_name": "Python 3",
      "language": "python",
      "name": "python3"
    }
  },
  "cells": [
    {
      "metadata": {
        "id": "4lBmr_5HKNj2",
        "colab_type": "text"
      },
      "cell_type": "markdown",
      "source": [
        "# Többváltozós analízis mérnöki alkalmazásai - 1. házi feladat\n",
        "\n",
        "## Adminisztratív tudnivalók:\n",
        "- A házi feladat beadási határideje: 2019.02.24 23:59:59.99.\n",
        "- A feladatot iPtyhon notebook-ként a beadó [formra](https://goo.gl/forms/nFGgWQunGIW7jaPP2) töltsétek fel. Név-neptun páronként csak egy feltöltés lehetséges, ha javítanátok a fájlt, írjatok emailt nekünk! \n",
        "- Üresen hagyott feladatattal nem fogadunk el házit.\n",
        "- A szöveges kérdésekre markdown cellákban, egész mondatokban, tisztán fogalmazva válaszoljatok.\n",
        "- A programozós feladatokat jól kommenteljétek, és figyeljetek a változó- és függvénynevekre (pl.: ne legyen \"valtozo1, fuggvenyem_1(param1, param2)...\"\n"
      ]
    },
    {
      "metadata": {
        "id": "ZDvMtQSSKNj_",
        "colab_type": "text"
      },
      "cell_type": "markdown",
      "source": [
        "## 1. feladat: Neurális háló kimenetének számítása\n",
        "\n",
        "A neurális számítási paradigma reneszánszát éli manapság. Értsük meg a legalapvetőbb mély neurális hálók, az FFC (előrecsatolt, teljesen összekötött) hálók működését! Nézzétek meg ezt a [videót](https://www.youtube.com/watch?v=aircAruvnKk) alaposan (további [anyag](http://smartlab.tmit.bme.hu/oktatas-deep-learning-eloadas?eloadas=2)), és válaszoljatok a következő kérdésekre:\n",
        "\n",
        "- 1.a: Magyarázzátok el saját szavaitokkal a következő fogalmakat:\n",
        "    - Elemi neuron (működése)\n",
        "    - Bemeneti vektor\n",
        "    - Aktivációs függvény\n",
        "    - Súlymátrix\n",
        "    - Kimeneti vektor\n",
        "- 1.b: Kiderül-e a súlymátrixok számából és méreteiből a hálózat topológiája (rétegek száma, rétegenként neuronok száma)? Ha igen, hogyan?\n",
        "- 1.c: Írd le, hogy ismert bemeneti vektor, súlymátrixok és aktivációs függvény esetében hogy számítható a hálózat kimeneti vektora!\n",
        "- 1.d: Ezen a  [linken](https://drive.google.com/open?id=1KdWl_OytNPaROJfBKdOFDFCo-O4MKz28) megtaláljátok egy olyan háló súlymátrixait, amelyik az [MNIST adatbázis](https://en.wikipedia.org/wiki/MNIST_database) kézzel írott számait ismeri fel. A súlymátrixok mellett megtaláljátok 5 szám \"flatten\"-elt (1D)-s fekete-fehér képét (az eredeti méret 28x28 pixel). A következő a feladatotok:\n",
        "    - Olvassátok be a súlyokat és a számok vektorait a numpy.load függvénnyel!\n",
        "    - Jelenítsétek meg a képernyőn a számokat!\n",
        "    - Írjatok egy függvényt, amelyik tetszőleges súlyvektorokra képes kiszámítani egy 2 rejtett rétegű (+1 kimeneti réteg) FCC neurális háló kimenetét! Az aktivációs függvény szigmoid és ReLU opciókkal választható legyen.\n",
        "    - Futtassátok le a függvényeteket a megadott súlyvektorokkal és számokkal, mindkét aktivációs függvénnyel (a háló jól működik, ha nem megfelelő helyen van a kimeneti maximum, nézzétek át a kódotokat)!\n",
        "    - Mit tapasztaltok, mi az eltérés a kimeneti vektorokban az aktivációs függvény változtatásával? Miért lehet ez? Változtat ez az eredményen?\n",
        "- 1.e: Olvassatok utána az osztályozási és regressziós felismerési feladatok különbségének! Szerintetek melyik volt a kettő közül az előbbi háló feladata?\n",
        "\n",
        "## 2. feladat: Út gyorsulásból\n",
        "\n",
        "A [linken](https://drive.google.com/open?id=1KdWl_OytNPaROJfBKdOFDFCo-O4MKz28) található csv fájlban Bence telefonjának gyorsulásértékei találhatóak 50 miliszekundumos mintavételezési idővel. Töltsétek le a fájlt, és válaszoljatok az alábbi kérdésekre:\n",
        "\n",
        "- 2.a: Melyik adatoszlopok lehetnek fontosak, ha a gyorsulásértékekből a megtett út hosszára szeretnénk következtetni?\n",
        "- 2.b: Kell-e valamilyen átalakítást végezni az adatokkal, mielőtt számolni kezdenénk velük? Ha igen, milyet és miért?\n",
        "- 2.c: Milyen hosszú utat tett meg Bence zsebe a mérés során, ha a telefonját végig benne tartotta?"
      ]
    },
    {
      "metadata": {
        "id": "bm_UGNGdKNkE",
        "colab_type": "code",
        "colab": {}
      },
      "cell_type": "code",
      "source": [
        ""
      ],
      "execution_count": 0,
      "outputs": []
    }
  ]
}