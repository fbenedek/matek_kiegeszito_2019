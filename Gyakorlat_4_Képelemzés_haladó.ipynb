{
 "cells": [
  {
   "cell_type": "markdown",
   "metadata": {},
   "source": [
    "# Többváltozós analízis mérnöki alkalmazásai - 4. gyakorlat\n",
    "\n",
    "## RGB varázslat\n",
    "\n",
    "A következőben azt nézhetjük meg, hogy hogy lehet a kijelzőn színt keverni. Ehhez 4 csúszkát használunk, egy-egy a színcsatornákra és egy a ki-bekapcsolásra.\n",
    "\n",
    "Érdemes használni az OpenCV megjelenítő ablakjának RGB érték kiíró tulajdonságát, elég az egeret a pont felé vinni és megadja annak RGB értéketit.\n",
    "\n",
    "Amit még az ügyesebbek észrevehetnek, hogy a megjelenítésnél is vigyázni kell a csatornák sorrendjének cseréjével."
   ]
  },
  {
   "cell_type": "code",
   "execution_count": 3,
   "metadata": {},
   "outputs": [],
   "source": [
    "import cv2\n",
    "import numpy as np\n",
    "\n",
    "def nothing(x):\n",
    "    pass\n",
    "\n",
    "# Create a black image, a window\n",
    "img = np.zeros((300,512,3), np.uint8)\n",
    "cv2.namedWindow('image')\n",
    "\n",
    "# create trackbars for color change\n",
    "cv2.createTrackbar('R','image',0,255,nothing)\n",
    "cv2.createTrackbar('G','image',0,255,nothing)\n",
    "cv2.createTrackbar('B','image',0,255,nothing)\n",
    "\n",
    "# create switch for ON/OFF functionality\n",
    "switch = '0 : OFF \\n1 : ON'\n",
    "cv2.createTrackbar(switch, 'image',0,1,nothing)\n",
    "\n",
    "while(1):\n",
    "    cv2.imshow('image',img)\n",
    "    k = cv2.waitKey(1) & 0xFF\n",
    "    # mit jelent a 27? \n",
    "    if k == 27:\n",
    "        break\n",
    "\n",
    "    # get current positions of four trackbars\n",
    "    r = cv2.getTrackbarPos('R','image')\n",
    "    g = cv2.getTrackbarPos('G','image')\n",
    "    b = cv2.getTrackbarPos('B','image')\n",
    "    s = cv2.getTrackbarPos(switch,'image')\n",
    "\n",
    "    if s == 0:\n",
    "        img[:] = 0\n",
    "    else:\n",
    "        img[:] = [b,g,r]\n",
    "\n",
    "cv2.destroyAllWindows()"
   ]
  },
  {
   "cell_type": "markdown",
   "metadata": {},
   "source": [
    "## 1. Feladat\n",
    "Készítsünk hasonló megoldást, de csak szürke árnyalatosra.\n",
    "Segítség: ugyanaz, mint az RGB megjelnítés, csak egy csatornába megy a 3 szín."
   ]
  },
  {
   "cell_type": "code",
   "execution_count": 1,
   "metadata": {},
   "outputs": [],
   "source": [
    "# megoldás\n",
    "import cv2\n",
    "import numpy as np\n",
    "\n",
    "def nothing(x):\n",
    "    pass\n",
    "\n",
    "# Create a black image, a window\n",
    "img = np.zeros((300,512,3), np.uint8)\n",
    "cv2.namedWindow('image')\n",
    "\n",
    "# create trackbars for color change\n",
    "cv2.createTrackbar('GRAY','image',0,255,nothing)\n",
    "\n",
    "\n",
    "# create switch for ON/OFF functionality\n",
    "switch = '0 : OFF \\n1 : ON'\n",
    "cv2.createTrackbar(switch, 'image',0,1,nothing)\n",
    "\n",
    "while(1):\n",
    "    cv2.imshow('image',img)\n",
    "    k = cv2.waitKey(1) & 0xFF\n",
    "    # mit jelent a 27? \n",
    "    if k == 27:\n",
    "        break\n",
    "\n",
    "    # get current positions of four trackbars\n",
    "    gray = cv2.getTrackbarPos('GRAY','image')\n",
    "\n",
    "    s = cv2.getTrackbarPos(switch,'image')\n",
    "\n",
    "    if s == 0:\n",
    "        img[:] = 0\n",
    "    else:\n",
    "        img[:] = [gray,gray,gray]\n",
    "\n",
    "cv2.destroyAllWindows()"
   ]
  },
  {
   "cell_type": "markdown",
   "metadata": {},
   "source": [
    "# Színszűrés segítő\n",
    "\n",
    "A következő kóddal a felső és alsó határokat könnyen meghatározhatjátok egy szín kiválasztásánál. Ez jól jön majd később, ha ilyen alkalmazást fejlesztetek - gyorsan meg tudjátok nézni, hogy egy kód mit is jelent."
   ]
  },
  {
   "cell_type": "code",
   "execution_count": 5,
   "metadata": {},
   "outputs": [],
   "source": [
    "# legszuperebb színkiválasztó.py\n",
    "\n",
    "import cv2\n",
    "import numpy as np\n",
    "\n",
    "def nothing(x):\n",
    "    pass\n",
    "\n",
    "# Create a black image, a window\n",
    "#img = np.zeros((300,512,3), np.uint8)\n",
    "image = cv2.imread(r\"kepem.jpg\") #kép\n",
    "img = cv2.resize(image, (0,0), fx=0.5, fy=0.5) \n",
    "img_ = cv2.resize(image, (0,0), fx=0.5, fy=0.5) \n",
    "# cap = cv2.VideoCapture(0)\n",
    "\n",
    "cv2.namedWindow('image')\n",
    "\n",
    "# create trackbars for color change\n",
    "cv2.createTrackbar('H_low','image',0,255,nothing)\n",
    "cv2.createTrackbar('S_low','image',0,255,nothing)\n",
    "cv2.createTrackbar('V_low','image',0,255,nothing)\n",
    "cv2.createTrackbar('H_high','image',0,255,nothing)\n",
    "cv2.createTrackbar('S_high','image',0,255,nothing)\n",
    "cv2.createTrackbar('V_high','image',0,255,nothing)\n",
    "\n",
    "# create switch for ON/OFF functionality\n",
    "switch = '0 : OFF \\n1 : ON'\n",
    "cv2.createTrackbar(switch, 'image',0,1,nothing)\n",
    "\n",
    "while(1):\n",
    "    cv2.imshow('image',img)\n",
    "    k = cv2.waitKey(1) & 0xFF\n",
    "    # itt már \n",
    "    if k == 27:\n",
    "        break\n",
    "\n",
    "    # get current positions of four trackbars\n",
    "    H_low = cv2.getTrackbarPos('H_low','image')\n",
    "    S_low = cv2.getTrackbarPos('S_low','image')\n",
    "    V_low = cv2.getTrackbarPos('V_low','image')\n",
    "    H_high = cv2.getTrackbarPos('H_high','image')\n",
    "    S_high = cv2.getTrackbarPos('S_high','image')\n",
    "    V_high = cv2.getTrackbarPos('V_high','image')\n",
    "    s = cv2.getTrackbarPos(switch,'image')\n",
    "\n",
    "    if s == 0:\n",
    "        img[:] = img_\n",
    "    else:\n",
    "        hsv = cv2.cvtColor(img_, cv2.COLOR_BGR2HSV)\n",
    "        lower_blue = np.array([H_low, S_low, V_low])\n",
    "        upper_blue = np.array([H_high, S_high, V_high])\n",
    "        #print(lower_blue)\n",
    "        mask = cv2.inRange(hsv, lower_blue, upper_blue)\n",
    "        res = cv2.bitwise_and(img_,img_, mask= mask)\n",
    "        #cv.imshow('hsv',hsv)\n",
    "        img[:] = res[:]\n",
    "\n",
    "cv2.destroyAllWindows()"
   ]
  },
  {
   "cell_type": "markdown",
   "metadata": {},
   "source": [
    "## 2. Feladat\n",
    "\n",
    "Készítsétek el az előző példát, csak HSV-ben!"
   ]
  },
  {
   "cell_type": "code",
   "execution_count": 1,
   "metadata": {},
   "outputs": [
    {
     "ename": "ModuleNotFoundError",
     "evalue": "No module named 'cv2'",
     "output_type": "error",
     "traceback": [
      "\u001b[0;31m---------------------------------------------------------------------------\u001b[0m",
      "\u001b[0;31mModuleNotFoundError\u001b[0m                       Traceback (most recent call last)",
      "\u001b[0;32m<ipython-input-1-a475b4bf16dd>\u001b[0m in \u001b[0;36m<module>\u001b[0;34m\u001b[0m\n\u001b[0;32m----> 1\u001b[0;31m \u001b[0;32mimport\u001b[0m \u001b[0mcv2\u001b[0m\u001b[0;34m\u001b[0m\u001b[0;34m\u001b[0m\u001b[0m\n\u001b[0m\u001b[1;32m      2\u001b[0m \u001b[0;32mimport\u001b[0m \u001b[0mnumpy\u001b[0m \u001b[0;32mas\u001b[0m \u001b[0mnp\u001b[0m\u001b[0;34m\u001b[0m\u001b[0;34m\u001b[0m\u001b[0m\n\u001b[1;32m      3\u001b[0m \u001b[0;34m\u001b[0m\u001b[0m\n\u001b[1;32m      4\u001b[0m \u001b[0;32mdef\u001b[0m \u001b[0mnothing\u001b[0m\u001b[0;34m(\u001b[0m\u001b[0mx\u001b[0m\u001b[0;34m)\u001b[0m\u001b[0;34m:\u001b[0m\u001b[0;34m\u001b[0m\u001b[0;34m\u001b[0m\u001b[0m\n\u001b[1;32m      5\u001b[0m     \u001b[0;32mpass\u001b[0m\u001b[0;34m\u001b[0m\u001b[0;34m\u001b[0m\u001b[0m\n",
      "\u001b[0;31mModuleNotFoundError\u001b[0m: No module named 'cv2'"
     ]
    }
   ],
   "source": [
    "import cv2\n",
    "import numpy as np\n",
    "\n",
    "def nothing(x):\n",
    "    pass\n",
    "\n",
    "# Create a black image, a window\n",
    "img = np.zeros((300,512,3), np.uint8)\n",
    "cv2.namedWindow('image')\n",
    "\n",
    "# create trackbars for color change\n",
    "cv2.createTrackbar('H','image',0,255,nothing)\n",
    "cv2.createTrackbar('S','image',0,255,nothing)\n",
    "cv2.createTrackbar('V','image',0,255,nothing)\n",
    "\n",
    "# create switch for ON/OFF functionality\n",
    "switch = '0 : OFF \\n1 : ON'\n",
    "cv2.createTrackbar(switch, 'image',0,1,nothing)\n",
    "\n",
    "while(1):\n",
    "    cv2.imshow('image',img)\n",
    "    k = cv2.waitKey(1) & 0xFF\n",
    "    # mit jelent a 27? \n",
    "    if k == 27:\n",
    "        break\n",
    "\n",
    "    # get current positions of four trackbars\n",
    "    h = cv2.getTrackbarPos('H','image')\n",
    "    S = cv2.getTrackbarPos('S','image')\n",
    "    v = cv2.getTrackbarPos('V','image')\n",
    "    s = cv2.getTrackbarPos(switch,'image')\n",
    "\n",
    "    if s == 0:\n",
    "        img[:] = 0\n",
    "    else:\n",
    "        img[:] = [h,S,v]\n",
    "        img = cv2.cvtColor(img, cv2.COLOR_HSV2BGR)\n",
    "# ctrl+x izgi dolog\n",
    "cv2.destroyAllWindows()"
   ]
  },
  {
   "cell_type": "markdown",
   "metadata": {},
   "source": [
    "# Videó a webkamerából"
   ]
  },
  {
   "cell_type": "code",
   "execution_count": null,
   "metadata": {},
   "outputs": [],
   "source": [
    "import numpy as np\n",
    "import cv2\n",
    "\n",
    "# több kamera esetén a szám jelöli a kamerát - ha -1 van ott akkor az utolsó kamera lesz akitiválva\n",
    "cap = cv2.VideoCapture(0)\n",
    "\n",
    "# végtelen ciklus inítása a képek beolvasására\n",
    "# fúj fúj végtelen ciklus\n",
    "while(True):\n",
    "    # a videocapture read függvényével megkaphatjuk a képet\n",
    "    ret, frame = cap.read()\n",
    "    \n",
    "    # ha kiíratjuk háthatjuk, hogy a ret azt adja meg, hogy sikerült-e olvasni\n",
    "    # print(ret)\n",
    "\n",
    "    # Múlt órai átalakítás\n",
    "    gray = cv2.cvtColor(frame, cv2.COLOR_BGR2GRAY)\n",
    "\n",
    "    # az OpenCV beépített megjelenítőjét használhatjuk, ezzel a legkönnyebb megnézni.\n",
    "    cv2.imshow('frame',gray)\n",
    "    \n",
    "    # várunk egy 'q'-ra a kilépéshez a ciklusból\n",
    "    if cv2.waitKey(1) & 0xFF == ord('q'):\n",
    "        break\n",
    "\n",
    "# A kamerát elengedi, nem fog a led mellette tovább világítani.\n",
    "cap.release()\n",
    "# Ha sok ablak lenne, ez a leghasznosabb parancs \n",
    "# Érdemes megpróbálni lekapcsolni kézzel az ablakokat még futás közben - elég nehéz\n",
    "cv2.destroyAllWindows()"
   ]
  },
  {
   "cell_type": "markdown",
   "metadata": {},
   "source": [
    "## Videó kimentése fájlba"
   ]
  },
  {
   "cell_type": "code",
   "execution_count": 1,
   "metadata": {},
   "outputs": [
    {
     "ename": "error",
     "evalue": "OpenCV(3.4.2) /tmp/build/80754af9/opencv-suite_1535558553474/work/modules/highgui/src/window.cpp:626: error: (-2:Unspecified error) The function is not implemented. Rebuild the library with Windows, GTK+ 2.x or Carbon support. If you are on Ubuntu or Debian, install libgtk2.0-dev and pkg-config, then re-run cmake or configure script in function 'cvDestroyAllWindows'\n",
     "output_type": "error",
     "traceback": [
      "\u001b[0;31m---------------------------------------------------------------------------\u001b[0m",
      "\u001b[0;31merror\u001b[0m                                     Traceback (most recent call last)",
      "\u001b[0;32m<ipython-input-1-09ca3914950e>\u001b[0m in \u001b[0;36m<module>\u001b[0;34m\u001b[0m\n\u001b[1;32m     29\u001b[0m \u001b[0mcap\u001b[0m\u001b[0;34m.\u001b[0m\u001b[0mrelease\u001b[0m\u001b[0;34m(\u001b[0m\u001b[0;34m)\u001b[0m\u001b[0;34m\u001b[0m\u001b[0;34m\u001b[0m\u001b[0m\n\u001b[1;32m     30\u001b[0m \u001b[0mout\u001b[0m\u001b[0;34m.\u001b[0m\u001b[0mrelease\u001b[0m\u001b[0;34m(\u001b[0m\u001b[0;34m)\u001b[0m\u001b[0;34m\u001b[0m\u001b[0;34m\u001b[0m\u001b[0m\n\u001b[0;32m---> 31\u001b[0;31m \u001b[0mcv2\u001b[0m\u001b[0;34m.\u001b[0m\u001b[0mdestroyAllWindows\u001b[0m\u001b[0;34m(\u001b[0m\u001b[0;34m)\u001b[0m\u001b[0;34m\u001b[0m\u001b[0;34m\u001b[0m\u001b[0m\n\u001b[0m",
      "\u001b[0;31merror\u001b[0m: OpenCV(3.4.2) /tmp/build/80754af9/opencv-suite_1535558553474/work/modules/highgui/src/window.cpp:626: error: (-2:Unspecified error) The function is not implemented. Rebuild the library with Windows, GTK+ 2.x or Carbon support. If you are on Ubuntu or Debian, install libgtk2.0-dev and pkg-config, then re-run cmake or configure script in function 'cvDestroyAllWindows'\n"
     ]
    }
   ],
   "source": [
    "import numpy as np\n",
    "import cv2\n",
    "\n",
    "cap = cv2.VideoCapture(0)\n",
    "\n",
    "# VideoWriter objektum létrehozása - argumentumban a kódolás van\n",
    "fourcc = cv2.VideoWriter_fourcc(*'XVID')\n",
    "# egy_tobbvaltozos_elete.avi legyen a neve\n",
    "# 15 fps felett \"úgyse\" lát az ember, úgyhogy jó lesz a 20 (kivéve a gamerek, ők 69^420 fpst látnak, ezért kell nekik drága monitor)\n",
    "# a 4k és 8k közt nincs akkora különbség, úgyhogy a 480p és a 1080p közt se lehet akkora.\n",
    "out = cv2.VideoWriter('egy_tobbvaltozos_elete.avi',fourcc, 20.0, (640,480))\n",
    "\n",
    "while(cap.isOpened()):\n",
    "    ret, frame = cap.read()\n",
    "    if ret==True:\n",
    "        # nem semmi, megfordul a kép\n",
    "        # ha nagyon viccesek vagyunk akkor csak minden második képet fordítunk meg\n",
    "        frame = cv2.flip(frame,0)\n",
    "        out.write(frame)\n",
    "\n",
    "        cv2.imshow('frame',frame)\n",
    "        if cv2.waitKey(1) & 0xFF == ord('q'):\n",
    "            break\n",
    "    # ha nem jön vissza  kép akkor is kilép\n",
    "    else:\n",
    "        break\n",
    "\n",
    "# ha ez nincs akkor hibásan is mentheti a videót\n",
    "cap.release()\n",
    "out.release()\n",
    "cv2.destroyAllWindows()"
   ]
  },
  {
   "cell_type": "markdown",
   "metadata": {},
   "source": [
    "## A konvolúció\n",
    "\n",
    "Akinek régen volt az általános, átnézzük azért, hogy mit is jelent, és megnézzük az általános alakot is. A konvolúció (diszkrét és folytonos is) egy olyan művelet, amely $f$ és $g$ függvények egymásra hatását fejezi ki: megmutatja, hogy az egyik függvényt a másikon \"végigtolva\" milyen időfüggvényt kapok. A konvolvált $h$ függvényt a következő \"konvolúciós integrál\" adja:\n",
    "$$h(t)=\\int_{-\\infty}^{\\infty}f(\\tau)*g(t-\\tau)d\\tau$$\n",
    "Mi is történik ebben a kifejezésben? Azt jelenti, hogy $h(t)$ időfüggvény egy $t$ időpillanatbeli értékének kiszámításához $g$ t körüli részeinek értékeit mind megszorozzuk $f$ megfelelő értékeivel. Szemléltető ábra:\n",
    "\n",
    "![kep1](http://ertedmar.hu/assets/content/konvolucio/konvolucio_animation2.gif)\n",
    "\n",
    "Általában mind $f$, mind $g$ csak egy szűk intervallumon nem nulla - ezért nem kell folyton improprius integrálokkal varázsolni. Diszkrét időben még egyszerűbb ez az elképzelés.\n",
    "\n",
    "![kep2](https://i.stack.imgur.com/0RTyh.png)\n",
    "\n",
    "De mihez is lehet ennek köze? Nézzük meg alaposan a 2. órán írt kódot - találunk egy diszkrét konvolúciót! Ez a mozgó átlag. (egy $n$ elemből álló, $1/n$ értékekkel feltöltött vektor konvolúciós integrálja bármely $a$ vektorral $a$ mozgó átlaga $n$ elemenként számítva.\n",
    "\n",
    "Mivel ezt a mozgó átlagot két, 1D-s vektort összeműveletelve kaptuk, érezzük, hogy akár ki is terjeszthetjük $n$ dimenzióra a konvolúciót - de most maradjuk csak meg 2D-ben. Mit jelentene ez 2D-ben? Legyenek $A$ és $K$ kvadratikus mátrixok (jóval több sorral/oszloppal rendelkezik, mint $K$) számoljuk ki $A$ minden eleménél a $K$ transzponáltjával vett \"súlyozott mozgó átlagot\" és kész is vagyunk! [Itt](http://www.songho.ca/dsp/convolution/convolution2d_example.html) végig van csinálva egy példa két 3x3-as mátrixra, ebből biztosan érthető.\n",
    "\n",
    "## 1 D konvolúció\n",
    "\n",
    "Kicsit siettünk a második órán, de talán emlékeztek, hogy volt szó jelek simításáról és a mozgó átlagról. Erre teljesen jó egy konvolúció is!"
   ]
  },
  {
   "cell_type": "code",
   "execution_count": 41,
   "metadata": {},
   "outputs": [
    {
     "data": {
      "text/plain": [
       "[<matplotlib.lines.Line2D at 0x7f69e7432940>]"
      ]
     },
     "execution_count": 41,
     "metadata": {},
     "output_type": "execute_result"
    },
    {
     "data": {
      "image/png": "[encoded data removed]",
      "text/plain": [
       "<Figure size 432x288 with 1 Axes>"
      ]
     },
     "metadata": {
      "needs_background": "light"
     },
     "output_type": "display_data"
    }
   ],
   "source": [
    "import matplotlib.pyplot as plt\n",
    "# legyen egy zajos sin fg\n",
    "num_of_pts=10000\n",
    "\n",
    "time=np.linspace(0,2*np.pi, num_of_pts)\n",
    "sign=np.sin(time)+1*np.sin(1*time) #a kód így nem egészen jó. módosítsátok úgy, hogy valóban \"szőrös\" legyen a jel!\n",
    "\n",
    "%matplotlib inline\n",
    "plt.plot(time, sign)\n"
   ]
  },
  {
   "cell_type": "code",
   "execution_count": 42,
   "metadata": {},
   "outputs": [
    {
     "data": {
      "text/plain": [
       "[<matplotlib.lines.Line2D at 0x7f69e7309940>]"
      ]
     },
     "execution_count": 42,
     "metadata": {},
     "output_type": "execute_result"
    },
    {
     "data": {
      "image/png": "[encoded data removed]",
      "text/plain": [
       "<Figure size 432x288 with 1 Axes>"
      ]
     },
     "metadata": {
      "needs_background": "light"
     },
     "output_type": "display_data"
    }
   ],
   "source": [
    "kernel=np.ones(80)\n",
    "kernel/=80 #próbáljátok ki, hogy a kernel méretének változtatása hogy hat!\n",
    "\n",
    "moving_avg = np.convolve(sign, kernel, mode='same')\n",
    "%matplotlib inline\n",
    "plt.plot(time,moving_avg)"
   ]
  },
  {
   "cell_type": "markdown",
   "metadata": {},
   "source": [
    "## 2D konvolúció és képelemzés \n",
    "\n",
    "Dolgozzunk az egyszerűség kedvéért fekete-fehér képekkel. Láthattuk, hogy ezeket mátrixokban tároltuk. Mossuk el a képünket, definiáljunk egy olyan mátrixot, amit egy konvolúció kerneljeként használva egy \"átlagolt\" képet kapunk vissza!"
   ]
  },
  {
   "cell_type": "code",
   "execution_count": 43,
   "metadata": {},
   "outputs": [],
   "source": [
    "import numpy as np\n",
    "import cv2\n",
    "\n",
    "\n",
    "#most kerítsünk elő egy képet\n",
    "img=cv2.imread('kepem.jpg', 0)\n",
    "cv2.imshow('Szürkeárnyalatos', img)\n",
    "cv2.waitKey(0)\n",
    "cv2.destroyAllWindows()"
   ]
  },
  {
   "cell_type": "code",
   "execution_count": 15,
   "metadata": {},
   "outputs": [
    {
     "name": "stdout",
     "output_type": "stream",
     "text": [
      "[[0.01 0.01 0.01 0.01 0.01 0.01 0.01 0.01 0.01 0.01]\n",
      " [0.01 0.01 0.01 0.01 0.01 0.01 0.01 0.01 0.01 0.01]\n",
      " [0.01 0.01 0.01 0.01 0.01 0.01 0.01 0.01 0.01 0.01]\n",
      " [0.01 0.01 0.01 0.01 0.01 0.01 0.01 0.01 0.01 0.01]\n",
      " [0.01 0.01 0.01 0.01 0.01 0.01 0.01 0.01 0.01 0.01]\n",
      " [0.01 0.01 0.01 0.01 0.01 0.01 0.01 0.01 0.01 0.01]\n",
      " [0.01 0.01 0.01 0.01 0.01 0.01 0.01 0.01 0.01 0.01]\n",
      " [0.01 0.01 0.01 0.01 0.01 0.01 0.01 0.01 0.01 0.01]\n",
      " [0.01 0.01 0.01 0.01 0.01 0.01 0.01 0.01 0.01 0.01]\n",
      " [0.01 0.01 0.01 0.01 0.01 0.01 0.01 0.01 0.01 0.01]]\n"
     ]
    }
   ],
   "source": [
    "#mossuk el!\n",
    "from scipy import signal\n",
    "\n",
    "#kernel def\n",
    "kernel=np.ones((10,10))\n",
    "kernel=kernel/100\n",
    "print(kernel)\n",
    "\n",
    "blur = signal.convolve2d(np.asarray(img), kernel, boundary='symm', mode='same')\n",
    "#blur = blur.astype('uint8') - mit rontok el?\n",
    "\n",
    "cv2.imshow('Szürkeárnyalatos - elmosva', blur)\n",
    "cv2.waitKey(0)\n",
    "cv2.destroyAllWindows()"
   ]
  },
  {
   "cell_type": "code",
   "execution_count": 38,
   "metadata": {},
   "outputs": [],
   "source": [
    "#A profik nem írják meg ezeket:\n",
    "blur_cv2blur=cv2.blur(img,(10,10)) #a kernel mérete!\n",
    "\n",
    "cv2.imshow('Szürkeárnyalatos - elmosva_2', blur_cv2blur)\n",
    "cv2.waitKey(0)\n",
    "cv2.destroyAllWindows()"
   ]
  },
  {
   "cell_type": "code",
   "execution_count": 40,
   "metadata": {},
   "outputs": [],
   "source": [
    "#Gauss - ugyanaz, csak nem konstans az array értéke ->kicsit szebb szélek\n",
    "blur_cv2gauss=cv2.GaussianBlur(img,(11,11),0) #a kernel mérete - módosítani kell, pltan kegyen!\n",
    "\n",
    "cv2.imshow('Szürkeárnyalatos - elmosva_3', blur_cv2gauss)\n",
    "cv2.waitKey(0)\n",
    "cv2.destroyAllWindows()"
   ]
  },
  {
   "cell_type": "markdown",
   "metadata": {},
   "source": [
    "## Konvolúció és élkeresés\n",
    "\n",
    "Nem csak az elmosásra jó: ha a kernel megfelelő, kiválaszthatjuk azokat a területeket vele, ahol nagy az eltérés a szomszédos értékek között $\\longrightarrow$ élkeresés!"
   ]
  },
  {
   "cell_type": "code",
   "execution_count": 44,
   "metadata": {},
   "outputs": [
    {
     "data": {
      "image/png": "[encoded data removed]",
      "text/plain": [
       "<Figure size 432x288 with 2 Axes>"
      ]
     },
     "metadata": {
      "needs_background": "light"
     },
     "output_type": "display_data"
    }
   ],
   "source": [
    "\n",
    "%matplotlib inline\n",
    "from scipy import signal\n",
    "from scipy import misc\n",
    "\n",
    "\n",
    "\n",
    "image = cv2.imread(\"rgb_venn.png\",0)\n",
    "kernel = np.array([[ 10, 0, -10],\n",
    "                   [ 0, 0, 0],\n",
    "                   [ -10, 0, 10]]) \n",
    "\n",
    "\n",
    "grad = signal.convolve2d(np.asarray(image), kernel, boundary='symm', mode='same')#boundary: milyen padding, mode: kimenet mérete\n",
    "grad = np.absolute(grad)\n",
    "#innentől ez csak a plot\n",
    "#módosítsatok úgy, hogy csak a víszintes, majd úgy is, hogy csak a függőleges éleket emeljem ki!\n",
    "import matplotlib.pyplot as plt\n",
    "fig, (ax_orig, ax_mag) = plt.subplots(1, 2)\n",
    "ax_orig.imshow(image, cmap='gray')\n",
    "ax_orig.set_title('Original')\n",
    "ax_orig.set_axis_off()\n",
    "\n",
    "ax_mag.imshow(grad, cmap='gray')\n",
    "ax_mag.set_title('Gradient magnitude')\n",
    "ax_mag.set_axis_off()\n",
    "'''ax_ang.imshow(np.angle(grad), cmap='hsv') # hsv is cyclic, like angles\n",
    "ax_ang.set_title('Gradient orientation')\n",
    "ax_ang.set_axis_off()'''\n",
    "\n",
    "fig.show()"
   ]
  }
 ],
 "metadata": {
  "kernelspec": {
   "display_name": "Python [conda env:root]",
   "language": "python",
   "name": "conda-root-py"
  },
  "language_info": {
   "codemirror_mode": {
    "name": "ipython",
    "version": 3
   },
   "file_extension": ".py",
   "mimetype": "text/x-python",
   "name": "python",
   "nbconvert_exporter": "python",
   "pygments_lexer": "ipython3",
   "version": "3.7.1"
  }
 },
 "nbformat": 4,
 "nbformat_minor": 2
}
